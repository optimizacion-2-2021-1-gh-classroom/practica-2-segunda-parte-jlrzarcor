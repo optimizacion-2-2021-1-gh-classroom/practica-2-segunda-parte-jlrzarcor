{
 "cells": [
  {
   "cell_type": "markdown",
   "id": "e6a93d84",
   "metadata": {},
   "source": [
    "# Reporte\n",
    "\n",
    "## Paralelización de Hill Climbing implementado con Numba"
   ]
  },
  {
   "cell_type": "markdown",
   "id": "6ac0d2df",
   "metadata": {},
   "source": [
    "\n",
    "Numba nos permite, gracias a JIT, hacer compilación durante la ejecución. Entonces menos tiempo dedicado a la compilación inicial significa que el código se puede interpretar mucho más rápido.  y la interpretación automática de los tipos de datos lo que permite una interpretación más rápida y eficaz del código.\n",
    "\n",
    "Dada la naturaleza de Hill Climbing consideramos que al implementar una paralelización resultaría en un aceleramiento del proceso iterativo inherente al algoritmo. Ya que nuestro algoritmo busca encontrar la ruta más adecuada, y con ayuda de la paralelización ofrecida por numba nos ayudaría a correr simultáneamente soluciones propuestas al algoritmo."
   ]
  },
  {
   "cell_type": "code",
   "execution_count": 2,
   "id": "844d75e5",
   "metadata": {},
   "outputs": [],
   "source": [
    "import os\n",
    "import time\n",
    "import numpy as np\n",
    "import pandas as pd\n",
    "os.chdir(\"../\")\n",
    "from src.hill_cg.hill import best_solution"
   ]
  },
  {
   "cell_type": "code",
   "execution_count": 4,
   "id": "6126b3e9",
   "metadata": {},
   "outputs": [],
   "source": [
    "dat = pd.read_csv(\"datasets/ca4663.tsp\", names = [\"index\",\"uno\",\"dos\"], sep = \" \")\n",
    "dat.drop(['index'],axis = 1, inplace = True)\n",
    "dat.dropna(inplace = True)\n",
    "dat1 = dat.to_numpy()\n",
    "dat2 = dat1[0:17,:]"
   ]
  },
  {
   "cell_type": "markdown",
   "id": "19147bad",
   "metadata": {},
   "source": [
    "En prmer lugar correremos la función `best_solution` sin Numba, , la cual nos retorna la ruta más corta encontrada por el algoritmo:"
   ]
  },
  {
   "cell_type": "code",
   "execution_count": 5,
   "id": "8b38a57e",
   "metadata": {},
   "outputs": [
    {
     "name": "stdout",
     "output_type": "stream",
     "text": [
      "888 ms ± 19.2 ms per loop (mean ± std. dev. of 7 runs, 3 loops each)\n"
     ]
    }
   ],
   "source": [
    "%timeit -n 3 -r 7 best_solution(dat2, 0, 1e-7, 100)"
   ]
  },
  {
   "cell_type": "code",
   "execution_count": 21,
   "id": "46d27d63",
   "metadata": {},
   "outputs": [],
   "source": [
    "distancia, ruta, tiempo_ejec = best_solution(dat2, 0, 1e-7, 100)"
   ]
  },
  {
   "cell_type": "markdown",
   "id": "4bcc2551",
   "metadata": {},
   "source": [
    "Aquí se muestra los resultados si Numba:"
   ]
  },
  {
   "cell_type": "code",
   "execution_count": 11,
   "id": "aec9b4b8",
   "metadata": {},
   "outputs": [
    {
     "name": "stdout",
     "output_type": "stream",
     "text": [
      "3337.113634493085\n",
      "[0, 1, 5, 6, 12, 13, 11, 15, 9, 16, 14, 7, 2, 4, 10, 8, 3, 0]\n",
      "0.9038689136505127\n"
     ]
    }
   ],
   "source": [
    "print(distancia)\n",
    "print(ruta)\n",
    "print(tiempo_ejec)"
   ]
  },
  {
   "cell_type": "code",
   "execution_count": 20,
   "id": "38fcdd9c",
   "metadata": {},
   "outputs": [
    {
     "name": "stdout",
     "output_type": "stream",
     "text": [
      "3353.4536058912754\n",
      "[0, 3, 2, 4, 9, 16, 14, 7, 10, 8, 15, 11, 13, 12, 6, 5, 1, 0]\n",
      "5.282973051071167\n"
     ]
    }
   ],
   "source": [
    "print(distancia)\n",
    "print(ruta)\n",
    "print(tiempo_ejec)"
   ]
  },
  {
   "cell_type": "code",
   "execution_count": 22,
   "id": "f8fdd050",
   "metadata": {},
   "outputs": [
    {
     "name": "stdout",
     "output_type": "stream",
     "text": [
      "3266.456452336076\n",
      "[0, 1, 5, 6, 12, 13, 11, 15, 8, 10, 9, 16, 14, 7, 2, 4, 3, 0]\n",
      "0.8811595439910889\n"
     ]
    }
   ],
   "source": [
    "print(distancia)\n",
    "print(ruta)\n",
    "print(tiempo_ejec)"
   ]
  },
  {
   "cell_type": "markdown",
   "id": "f8dbf4bb",
   "metadata": {},
   "source": [
    "Ahora corremos la misma función implementada con Numba:"
   ]
  },
  {
   "cell_type": "code",
   "execution_count": 6,
   "id": "a1cd5839",
   "metadata": {},
   "outputs": [],
   "source": [
    "from notebooks.nb_hill import nb_best_solution"
   ]
  },
  {
   "cell_type": "code",
   "execution_count": 7,
   "id": "0ef2ad42",
   "metadata": {},
   "outputs": [
    {
     "name": "stderr",
     "output_type": "stream",
     "text": [
      "/home/ubuntu/.local/lib/python3.8/site-packages/numba/core/ir_utils.py:2119: NumbaPendingDeprecationWarning: \u001b[1m\n",
      "Encountered the use of a type that is scheduled for deprecation: type 'reflected list' found for argument 'sol' of function 'calculate_distance'.\n",
      "\n",
      "For more information visit https://numba.pydata.org/numba-doc/latest/reference/deprecation.html#deprecation-of-reflection-for-list-and-set-types\n",
      "\u001b[1m\n",
      "File \"notebooks/nb_hill.py\", line 51:\u001b[0m\n",
      "\u001b[1m@nb.njit(parallel=True)\n",
      "\u001b[1mdef calculate_distance(matrix, sol):\n",
      "\u001b[0m\u001b[1m^\u001b[0m\u001b[0m\n",
      "\u001b[0m\n",
      "  warnings.warn(NumbaPendingDeprecationWarning(msg, loc=loc))\n",
      "/home/ubuntu/.local/lib/python3.8/site-packages/numba/core/ir_utils.py:2119: NumbaPendingDeprecationWarning: \u001b[1m\n",
      "Encountered the use of a type that is scheduled for deprecation: type 'reflected list' found for argument 'sol' of function '__numba_parfor_gufunc_0x7fbf954be2b0'.\n",
      "\n",
      "For more information visit https://numba.pydata.org/numba-doc/latest/reference/deprecation.html#deprecation-of-reflection-for-list-and-set-types\n",
      "\u001b[1m\n",
      "File \"<string>\", line 1:\u001b[0m\n",
      "\u001b[1m<source missing, REPL/exec in use?>\u001b[0m\n",
      "\u001b[0m\n",
      "  warnings.warn(NumbaPendingDeprecationWarning(msg, loc=loc))\n"
     ]
    },
    {
     "name": "stdout",
     "output_type": "stream",
     "text": [
      "5.3 s ± 127 ms per loop (mean ± std. dev. of 7 runs, 3 loops each)\n"
     ]
    }
   ],
   "source": [
    "%timeit -n 3 -r 7 nb_best_solution(dat2, 0, 1e-7, 100)"
   ]
  },
  {
   "cell_type": "markdown",
   "id": "0b13c911",
   "metadata": {},
   "source": [
    "Volvemos a correr el `best_solution` con Numba ya compilado el código."
   ]
  },
  {
   "cell_type": "code",
   "execution_count": 8,
   "id": "b0427fd6",
   "metadata": {},
   "outputs": [
    {
     "name": "stdout",
     "output_type": "stream",
     "text": [
      "5.33 s ± 83.6 ms per loop (mean ± std. dev. of 7 runs, 3 loops each)\n"
     ]
    }
   ],
   "source": [
    "%timeit -n 3 -r 7 nb_best_solution(dat2, 0, 1e-7, 100)"
   ]
  },
  {
   "cell_type": "markdown",
   "id": "818aae13",
   "metadata": {},
   "source": [
    "Aquí se muestran los resultados con Numba:"
   ]
  },
  {
   "cell_type": "code",
   "execution_count": 19,
   "id": "bf12c610",
   "metadata": {},
   "outputs": [],
   "source": [
    "distancia, ruta, tiempo_ejec = nb_best_solution(dat2, 0, 1e-7, 100)"
   ]
  },
  {
   "cell_type": "code",
   "execution_count": 14,
   "id": "124735bc",
   "metadata": {},
   "outputs": [
    {
     "name": "stdout",
     "output_type": "stream",
     "text": [
      "3332.348304772912\n",
      "[0, 1, 5, 6, 12, 13, 11, 15, 10, 8, 9, 14, 16, 7, 2, 4, 3, 0]\n",
      "5.391537666320801\n"
     ]
    }
   ],
   "source": [
    "print(distancia)\n",
    "print(ruta)\n",
    "print(tiempo_ejec)"
   ]
  },
  {
   "cell_type": "code",
   "execution_count": 16,
   "id": "7df35b6e",
   "metadata": {},
   "outputs": [
    {
     "name": "stdout",
     "output_type": "stream",
     "text": [
      "3341.316828737772\n",
      "[0, 3, 4, 2, 7, 9, 14, 16, 10, 8, 15, 11, 13, 12, 6, 5, 1, 0]\n",
      "5.332757234573364\n"
     ]
    }
   ],
   "source": [
    "print(distancia)\n",
    "print(ruta)\n",
    "print(tiempo_ejec)"
   ]
  },
  {
   "cell_type": "code",
   "execution_count": 18,
   "id": "13bea4a6",
   "metadata": {},
   "outputs": [
    {
     "name": "stdout",
     "output_type": "stream",
     "text": [
      "3269.2653147263823\n",
      "[0, 1, 5, 6, 12, 13, 11, 15, 8, 10, 9, 14, 16, 7, 2, 4, 3, 0]\n",
      "5.427420616149902\n"
     ]
    }
   ],
   "source": [
    "print(distancia)\n",
    "print(ruta)\n",
    "print(tiempo_ejec)"
   ]
  },
  {
   "cell_type": "markdown",
   "id": "1f7a1e4f",
   "metadata": {},
   "source": [
    "## Conclusión\n",
    "\n",
    "Notamos que los tiempos son más pequeños en el primer, en el segundo ejemplo aumentaron los tiempos de ejecución en más de 5x.  La segunda implementación está basada en los datos mostrados del perfilamiento, donde se muestra que la función que más es llamada es `calculate_distance`, por ello tomamos la decisión de paralizar dicha función. \n",
    "\n",
    "A pesar de haber tomando dicha acción, ni los tiempos de ejecución y la solución dada por el algoritmo, cómo la ruta más corta, mostraron mejoras sustanciales con esta implementación. \n",
    "\n",
    "Dado estos resultados se tomó la decisión de modificar nuestro código para la práctica final, con el objetivo de utilizar frameworks cómo `dask` y el modulo de python, `multiprocessing`, par implementar el computo en paralelo que nos ayudara a tener mejores resultados. Además para acelerar la ejecución del algorimtmo realizaremos la implementación de la paralelización en GPU en un contenedor con Kale."
   ]
  }
 ],
 "metadata": {
  "kernelspec": {
   "display_name": "Python 3",
   "language": "python",
   "name": "python3"
  },
  "language_info": {
   "codemirror_mode": {
    "name": "ipython",
    "version": 3
   },
   "file_extension": ".py",
   "mimetype": "text/x-python",
   "name": "python",
   "nbconvert_exporter": "python",
   "pygments_lexer": "ipython3",
   "version": "3.8.5"
  }
 },
 "nbformat": 4,
 "nbformat_minor": 5
}
