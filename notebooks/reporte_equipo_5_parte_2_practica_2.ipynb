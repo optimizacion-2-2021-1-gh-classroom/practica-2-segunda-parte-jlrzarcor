{
 "cells": [
  {
   "cell_type": "markdown",
   "id": "0f71b028",
   "metadata": {},
   "source": [
    "# Reporte\n",
    "\n",
    "## Paralelización de Hill Climbing implementado con Numba"
   ]
  },
  {
   "cell_type": "markdown",
   "id": "d0b04b96",
   "metadata": {},
   "source": [
    "\n",
    "Numba nos permite, gracias a JIT, hacer compilación durante la ejecución. Entonces menos tiempo dedicado a la compilación inicial significa que el código se puede interpretar mucho más rápido.  y la interpretación automática de los tipos de datos lo que permite una interpretación más rápida y eficaz del código.\n",
    "\n",
    "Dada la naturaleza de Hill Climbing consideramos que al implementar una paralelización resultaría en un aceleramiento del proceso iterativo inherente al algoritmo. Ya que nuestro algoritmo busca encontrar la ruta más adecuada, y con ayuda de la paralelización ofrecida por numba nos ayudaría a correr simultáneamente soluciones propuestas al algoritmo."
   ]
  },
  {
   "cell_type": "code",
   "execution_count": 3,
   "id": "d7eb0960",
   "metadata": {},
   "outputs": [],
   "source": [
    "from src.hill_cg.hill import best_solution"
   ]
  },
  {
   "cell_type": "code",
   "execution_count": 2,
   "id": "b609b6de",
   "metadata": {},
   "outputs": [],
   "source": [
    "import os\n",
    "import numpy as np\n",
    "import pandas as pd\n",
    "os.chdir(\"../\")"
   ]
  },
  {
   "cell_type": "code",
   "execution_count": 4,
   "id": "f630e205",
   "metadata": {},
   "outputs": [],
   "source": [
    "dat = pd.read_csv(\"datasets//ca4663.tsp\", names = [\"index\",\"uno\",\"dos\"], sep = \" \")\n",
    "dat.drop(['index'],axis = 1, inplace = True)\n",
    "dat.dropna(inplace = True)\n",
    "dat1 = dat.to_numpy()\n",
    "dat2 = dat1[0:30,:]"
   ]
  },
  {
   "cell_type": "markdown",
   "id": "42a8612e",
   "metadata": {},
   "source": [
    "En prmer lugar correremos la función `best_solution` sin Numba, , la cual nos retorna la ruta más corta encontrada por el algoritmo:"
   ]
  },
  {
   "cell_type": "code",
   "execution_count": 5,
   "id": "9e5f0127",
   "metadata": {},
   "outputs": [],
   "source": [
    "distance, route, tiem = best_solution(dat2)"
   ]
  },
  {
   "cell_type": "markdown",
   "id": "e9ddb93b",
   "metadata": {},
   "source": [
    "Ahora corremos la misma función implementada con Numba:"
   ]
  },
  {
   "cell_type": "code",
   "execution_count": 6,
   "id": "5f608c3d",
   "metadata": {},
   "outputs": [],
   "source": [
    "from notebooks.nb_hill import nb_best_solution"
   ]
  },
  {
   "cell_type": "code",
   "execution_count": 9,
   "id": "67f2130a",
   "metadata": {},
   "outputs": [
    {
     "name": "stderr",
     "output_type": "stream",
     "text": [
      "/home/ubuntu/.local/lib/python3.8/site-packages/numba/core/ir_utils.py:2119: NumbaPendingDeprecationWarning: \u001b[1m\n",
      "Encountered the use of a type that is scheduled for deprecation: type 'reflected list' found for argument 'sol' of function 'calculate_distance'.\n",
      "\n",
      "For more information visit https://numba.pydata.org/numba-doc/latest/reference/deprecation.html#deprecation-of-reflection-for-list-and-set-types\n",
      "\u001b[1m\n",
      "File \"notebooks/nb_hill.py\", line 51:\u001b[0m\n",
      "\u001b[1m@nb.njit(parallel=True)\n",
      "\u001b[1mdef calculate_distance(matrix, sol):\n",
      "\u001b[0m\u001b[1m^\u001b[0m\u001b[0m\n",
      "\u001b[0m\n",
      "  warnings.warn(NumbaPendingDeprecationWarning(msg, loc=loc))\n",
      "/home/ubuntu/.local/lib/python3.8/site-packages/numba/core/ir_utils.py:2119: NumbaPendingDeprecationWarning: \u001b[1m\n",
      "Encountered the use of a type that is scheduled for deprecation: type 'reflected list' found for argument 'sol' of function '__numba_parfor_gufunc_0x7ff5a7d2d520'.\n",
      "\n",
      "For more information visit https://numba.pydata.org/numba-doc/latest/reference/deprecation.html#deprecation-of-reflection-for-list-and-set-types\n",
      "\u001b[1m\n",
      "File \"<string>\", line 1:\u001b[0m\n",
      "\u001b[1m<source missing, REPL/exec in use?>\u001b[0m\n",
      "\u001b[0m\n",
      "  warnings.warn(NumbaPendingDeprecationWarning(msg, loc=loc))\n"
     ]
    }
   ],
   "source": [
    "distance, route, tiem = nb_best_solution(dat2)"
   ]
  },
  {
   "cell_type": "markdown",
   "id": "6799a951",
   "metadata": {},
   "source": [
    "Volvemos a correr el `best_solution` con Numba ya compilado el código."
   ]
  },
  {
   "cell_type": "code",
   "execution_count": 10,
   "id": "5ade398d",
   "metadata": {},
   "outputs": [],
   "source": [
    "distance, route, tiem = nb_best_solution(dat2)"
   ]
  },
  {
   "cell_type": "markdown",
   "id": "457088f4",
   "metadata": {},
   "source": [
    "## Conclusión\n",
    "\n",
    "Notamos que los tiempos son muy parecidos en el primer y segundo ejemplo.  La segunda implementación está basada en los datos mostrados del perfilamiento, donde se muestra que la función que más es llamada es `calculate_distance`, por ello tomamos la decisión de paralizar dicha función. \n",
    "\n",
    "A pesar de haber tomando dicha acción, ni los tiempos de ejecución y la solución dada por el algoritmo, cómo la ruta más corta, mostraron mejoras con esta implementación. \n",
    "\n",
    "Dado estos resultados se tomó la decisión de modificar nuestro código para la práctica final, con el objetivo de utilizar frameworks cómo `dask` y el modulo de python, `multiprocessing`, par implementar el computo en paralelo que nos ayudara a tener mejores resultados. Además de esto agregaremos nb_"
   ]
  }
 ],
 "metadata": {
  "kernelspec": {
   "display_name": "Python 3",
   "language": "python",
   "name": "python3"
  },
  "language_info": {
   "codemirror_mode": {
    "name": "ipython",
    "version": 3
   },
   "file_extension": ".py",
   "mimetype": "text/x-python",
   "name": "python",
   "nbconvert_exporter": "python",
   "pygments_lexer": "ipython3",
   "version": "3.8.5"
  }
 },
 "nbformat": 4,
 "nbformat_minor": 5
}
