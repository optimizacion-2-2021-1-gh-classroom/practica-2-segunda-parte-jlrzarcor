{
 "cells": [
  {
   "cell_type": "markdown",
   "metadata": {},
   "source": [
    "### Primera reimplementación \n",
    "\n",
    "Se busca arreglar el algorimo para salir de ciclamientos en mínimo local."
   ]
  },
  {
   "cell_type": "code",
   "execution_count": 3,
   "metadata": {},
   "outputs": [],
   "source": [
    "import time\n",
    "import random\n",
    "import numpy as np\n",
    "import pandas as pd\n",
    "\n",
    "#coordinate of the points/cities\n",
    "\n",
    "\n",
    "#adjacency matrix for a weighted graph based on the given coordinates\n",
    "def distance_matrix(coordinate):\n",
    "    \"\"\"\n",
    "    calculate the distance among each suggest solution point\n",
    "\n",
    "    input:\n",
    "        coordinate[array]: array containig the points to be visited\n",
    "    outputs:\n",
    "        matrix[array]: nxn array with distances among solution points\n",
    "    \"\"\"\n",
    "    matrix = []\n",
    "    for i in range(len(coordinate)):\n",
    "        for j in range(len(coordinate)) :       \n",
    "            p = np.linalg.norm(coordinate[i] - coordinate[j])\n",
    "            matrix.append(p)\n",
    "    matrix = np.reshape(matrix, (len(coordinate),len(coordinate)))\n",
    "    #print(matrix)\n",
    "    return matrix\n",
    "\n",
    "#finds a random solution    \n",
    "def random_solution(matrix, initial_point):\n",
    "    \"\"\"\n",
    "    create a random solution with the places to be visited\n",
    "        input:\n",
    "            matrix[array]: distance between points\n",
    "            initial_point[integer]: number of the place to be visited first\n",
    "        output:\n",
    "            temp_solution[list]: creates random solution\n",
    "    \"\"\"\n",
    "    points = list(range(0, len(matrix)))\n",
    "    solution = [initial_point]\n",
    "    points.remove(initial_point)\n",
    "    for _ in range(0, len(matrix)-1):\n",
    "        random_point = points[random.randint(0, len(points) - 1)]\n",
    "        solution.append(random_point)\n",
    "        points.remove(random_point)\n",
    "    return solution\n",
    "\n",
    "\n",
    "#computes the path based on the random solution\n",
    "def calculate_distance(matrix, solution):\n",
    "    \"\"\"\n",
    "    returns the distance associated with a solution\n",
    "        input:\n",
    "            matrix[array]: distance between points\n",
    "            solution[list]: contains a propose random solution \n",
    "        output:\n",
    "        distance[float]: distance cover a propose solution            \n",
    "    \"\"\"\n",
    "    distance = 0\n",
    "    for i in range(0, len(solution)):\n",
    "        distance += matrix[solution[i]][solution[i - 1]]\n",
    "    return distance\n",
    "\n",
    "#generate neighbors of the random solution by swapping cities and returns the best neighbor\n",
    "def neighbors(matrix, solution):\n",
    "    \"\"\"\n",
    "    create neighbors of a propose solution\n",
    "        input: \n",
    "            matrix[array]: distance between points\n",
    "            solution[list]: contains a propose random solution\n",
    "        output:\n",
    "            best_neighbor[list]: contains the best neighbor of he current solution\n",
    "            best_path[float]: distance cover by the best_neighbor route\n",
    "    \"\"\"\n",
    "    neighbors = []\n",
    "    \n",
    "    for i in range(len(solution)):\n",
    "        for j in range(i + 2, len(solution)):\n",
    "            neighbor = solution.copy()\n",
    "            neighbor[i + 1] = solution[j]\n",
    "            neighbor[j] = solution[i + 1]\n",
    "            print(neighbor)\n",
    "            neighbors.append(neighbor)\n",
    "    return neighbors\n",
    "            \n",
    "    \n",
    "    #assume that the first neighbor in the list is the best neighbor      \n",
    "def neighbors_two(matrix, neighbors):\n",
    "    best_neighbor = neighbors[0]\n",
    "    best_path = calculate_distance(matrix, best_neighbor)\n",
    "    \n",
    "    #check if there is a better neighbor\n",
    "    for neighbor in neighbors:\n",
    "        current_path = calculate_distance(matrix, neighbor)\n",
    "        if current_path < best_path:\n",
    "            best_path = current_path\n",
    "            best_neighbor = neighbor\n",
    "    return best_neighbor, best_path\n",
    "\n",
    "\n",
    "def best_solution(coordinate, initial_point = 0, tol = 1e-7, max_iter = 10000):\n",
    "    \"\"\"\n",
    "    finds an optimal solution for the TSP problem using hill climbing algorithm\n",
    "        input:\n",
    "            points: coordinates of the places to be visited \n",
    "            initial_point[integer]: number of the place to be visited first\n",
    "            tolerance[float]: value that indicates the solution is not improving\n",
    "        outputs:\n",
    "            bst_distance[float]: distance of the best route \n",
    "            best_sol[list]: order the places to be visted in the optimal solution\n",
    "            time[float]: time that take the algorithm to obtain the solution    \n",
    "    \"\"\"\n",
    "    #start_time = time.time()\n",
    "    matrix = distance_matrix(coordinate)\n",
    "    \n",
    "    current_route = random_solution(matrix, initial_point)\n",
    "    current_distance = calculate_distance(matrix, current_route)\n",
    "    route_persist = current_route.copy()\n",
    "    list_neig = neighbors(matrix,current_route)\n",
    "    best_neighbor, best_path = neighbors_two(matrix, list_neig)\n",
    "    #print(current_route)\n",
    "    #neig = neighbors(matrix,current_solution)[0]\n",
    "    #b_neig, b_neig_p = neighbors_two(matrix, list_neig)\n",
    "    itera = 0\n",
    "    while abs(best_path - current_distance) > tol and itera <= max_iter:\n",
    "\n",
    "        #list_neig = neighbors(matrix,current_route)\n",
    "        #best_neighbor, best_path = neighbors_two(matrix, list_neig)\n",
    "        #route_persist = current_route.copy()\n",
    "        #for n in list_neig:\n",
    "        #dist_s = calculate_distance(matrix, n)\n",
    "        if best_path < current_distance:\n",
    "            current_route = best_neighbor\n",
    "            current_distance = best_path\n",
    "            #print(n)\n",
    "            #print(current_route)\n",
    "        list_neig = neighbors(matrix,current_route)\n",
    "        best_neighbor, best_path = neighbors_two(matrix, list_neig)\n",
    "        \n",
    "        if best_neighbor == route_persist:\n",
    "            current_route = random_solution(matrix, initial_point)\n",
    "            print('ooooooooooooooooooooooooooooooooooo')\n",
    "            print(current_route)\n",
    "        #print(itera, best_path, current_distance, best_path - current_distance)\n",
    "        itera += 1        \n",
    "        #neighbor = neighbors(matrix, current_solution)[0]\n",
    "        #best_neighbor, best_neighbor_path = neighbors(matrix, neighbor)\n",
    "\n",
    "    return current_route, current_distance, list_neig"
   ]
  },
  {
   "cell_type": "code",
   "execution_count": 4,
   "metadata": {},
   "outputs": [],
   "source": [
    "dat = pd.read_csv(\"../../datasets/ca4663.tsp\", names = [\"index\",\"uno\",\"dos\"], sep = \" \")\n",
    "dat.drop(['index'],axis = 1, inplace = True)\n",
    "dat.dropna(inplace = True)\n",
    "dat1 = dat.to_numpy()\n",
    "dat2 = dat1[0:20,:]"
   ]
  },
  {
   "cell_type": "code",
   "execution_count": 7,
   "metadata": {},
   "outputs": [],
   "source": [
    "#current_route, current_distance, list_neig = best_solution(dat2)"
   ]
  },
  {
   "cell_type": "markdown",
   "metadata": {},
   "source": [
    "Distancia mínima encontrada por el algoritmo."
   ]
  },
  {
   "cell_type": "code",
   "execution_count": 6,
   "metadata": {},
   "outputs": [
    {
     "data": {
      "text/plain": [
       "3963.4488551673553"
      ]
     },
     "execution_count": 6,
     "metadata": {},
     "output_type": "execute_result"
    }
   ],
   "source": [
    "current_distance"
   ]
  },
  {
   "cell_type": "code",
   "execution_count": null,
   "metadata": {},
   "outputs": [],
   "source": []
  },
  {
   "cell_type": "code",
   "execution_count": null,
   "metadata": {},
   "outputs": [],
   "source": []
  },
  {
   "cell_type": "code",
   "execution_count": null,
   "metadata": {},
   "outputs": [],
   "source": []
  },
  {
   "cell_type": "code",
   "execution_count": null,
   "metadata": {},
   "outputs": [],
   "source": []
  }
 ],
 "metadata": {
  "kernelspec": {
   "display_name": "optimizacion",
   "language": "python",
   "name": "optimizacion"
  },
  "language_info": {
   "codemirror_mode": {
    "name": "ipython",
    "version": 3
   },
   "file_extension": ".py",
   "mimetype": "text/x-python",
   "name": "python",
   "nbconvert_exporter": "python",
   "pygments_lexer": "ipython3",
   "version": "3.8.0"
  }
 },
 "nbformat": 4,
 "nbformat_minor": 2
}
