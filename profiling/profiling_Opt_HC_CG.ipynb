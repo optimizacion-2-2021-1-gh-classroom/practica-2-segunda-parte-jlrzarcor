{
 "cells": [
  {
   "cell_type": "markdown",
   "id": "6bba2246",
   "metadata": {},
   "source": [
    "# Maestría en Ciencia de Datos, ITAM\n",
    "\n",
    "**Curso de Optimización 2 2021-1,\"Optimización Avanzada\"\n",
    "Prof. Erick Palacios Moreno**\n",
    "\n",
    ">*Equipo 5:  \n",
    "MIGUEL LOPEZ  \n",
    "CARLOS LOPEZ  \n",
    "JOSÉ ZARATE  \n",
    "\n",
    "# PERFILAMIENTO DE CÓDIGO.\n",
    "\n",
    "**INTRO**\n",
    "\n",
    "EXPLICAR LA REIMPLEMENTACIÓN QUE SE DESARROLLO \n",
    "\n",
    "El paquete que desarrollamos se compone de dos métodos de optimización convexa, uno metaheurístico Hill Climbing y uno por descenso en gradiente Conjugate Gradient. En este notebook realizaremos el perfilamiento de tales métodos, Hill Climbing aplicado para resolver el problema del viajero (TSP) por medio del análisis de la ruta más corta por distancia euclideana.\n",
    "\n",
    "Nota: el desarrollo de este notebook está basado en la secuencia de perfilamiento utilizada por el Profesor Erick Palacios Moreno en sus notas de clase (ver referencias en README).\n",
    "\n",
    "-----\n",
    "\n",
    "## RESOLVER EL PROBLEMA DE TRAVELING SALESMAN PROBLEM (A.K.A. TSP) PARA DISTINTAS CIUDADES UTILIZANDO EL MÉTODO DE HILL CLIMBING\n",
    "\n",
    "* Distancia Euclideana.\n",
    "> Dataset: National Traveling Salesman Problems, CANADA\n",
    "\n",
    "Para ello, realizaremos una ejecución para segemento del dataset con 100 ciudades:\n",
    "\n",
    "______\n",
    "\n",
    "**Hill Climbing**  \n",
    "\n",
    ".\n",
    "\n",
    "______\n",
    "\n",
    "**MODIFICACIONES DERIVADAS DE LA ETAPA DE EXPERIMENTACIÓN:**\n",
    "\n",
    ".\n",
    "\n",
    "-----\n",
    "\n",
    "## PERFILAMIENTO\n",
    "\n",
    "> **Descripción de la instancia**\n",
    "\n",
    "Hemos decidido utilizar una máquina AWS EC2 m5.2xlarge que es la de mayor capacidad disponible con el programa AWS EDUCATE. Sus características son:"
   ]
  },
  {
   "cell_type": "code",
   "execution_count": 1,
   "id": "e8775905",
   "metadata": {},
   "outputs": [
    {
     "name": "stdout",
     "output_type": "stream",
     "text": [
      "Architecture:                    x86_64\n",
      "CPU op-mode(s):                  32-bit, 64-bit\n",
      "Byte Order:                      Little Endian\n",
      "Address sizes:                   46 bits physical, 48 bits virtual\n",
      "CPU(s):                          8\n",
      "On-line CPU(s) list:             0-7\n",
      "Thread(s) per core:              2\n",
      "Core(s) per socket:              4\n",
      "Socket(s):                       1\n",
      "NUMA node(s):                    1\n",
      "Vendor ID:                       GenuineIntel\n",
      "CPU family:                      6\n",
      "Model:                           85\n",
      "Model name:                      Intel(R) Xeon(R) Platinum 8175M CPU @ 2.50GHz\n",
      "Stepping:                        4\n",
      "CPU MHz:                         3120.058\n",
      "BogoMIPS:                        5000.00\n",
      "Hypervisor vendor:               KVM\n",
      "Virtualization type:             full\n",
      "L1d cache:                       128 KiB\n",
      "L1i cache:                       128 KiB\n",
      "L2 cache:                        4 MiB\n",
      "L3 cache:                        33 MiB\n",
      "NUMA node0 CPU(s):               0-7\n",
      "Vulnerability Itlb multihit:     KVM: Vulnerable\n",
      "Vulnerability L1tf:              Mitigation; PTE Inversion\n",
      "Vulnerability Mds:               Vulnerable: Clear CPU buffers attempted, no microcode; SMT Host state unknown\n",
      "Vulnerability Meltdown:          Mitigation; PTI\n",
      "Vulnerability Spec store bypass: Vulnerable\n",
      "Vulnerability Spectre v1:        Mitigation; usercopy/swapgs barriers and __user pointer sanitization\n",
      "Vulnerability Spectre v2:        Mitigation; Full generic retpoline, STIBP disabled, RSB filling\n",
      "Vulnerability Srbds:             Not affected\n",
      "Vulnerability Tsx async abort:   Vulnerable: Clear CPU buffers attempted, no microcode; SMT Host state unknown\n",
      "Flags:                           fpu vme de pse tsc msr pae mce cx8 apic sep mtrr pge mca cmov pat pse36 clflush mmx fxsr sse sse2 ss ht syscall nx pdpe1gb rdtscp lm constant_tsc rep_good nopl xtopology nonstop_tsc cpuid aperfmperf tsc_known_freq pni pclmulqdq ssse3 fma cx16 pcid sse4_1 sse4_2 x2apic movbe popcnt tsc_deadline_timer aes xsave avx f16c rdrand hypervisor lahf_lm abm 3dnowprefetch invpcid_single pti fsgsbase tsc_adjust bmi1 hle avx2 smep bmi2 erms invpcid rtm mpx avx512f avx512dq rdseed adx smap clflushopt clwb avx512cd avx512bw avx512vl xsaveopt xsavec xgetbv1 xsaves ida arat pku ospke\n"
     ]
    }
   ],
   "source": [
    "%%bash\n",
    "lscpu"
   ]
  },
  {
   "cell_type": "code",
   "execution_count": 2,
   "id": "84f55e4d",
   "metadata": {},
   "outputs": [
    {
     "name": "stdout",
     "output_type": "stream",
     "text": [
      "  *-firmware\n",
      "       description: BIOS\n",
      "       vendor: Amazon EC2\n",
      "       physical id: 0\n",
      "       version: 1.0\n",
      "       date: 10/16/2017\n",
      "       size: 64KiB\n",
      "       capacity: 64KiB\n",
      "       capabilities: pci edd acpi virtualmachine\n",
      "  *-memory\n",
      "       description: System memory\n",
      "       physical id: 1\n",
      "       size: 31GiB\n"
     ]
    }
   ],
   "source": [
    "%%bash\n",
    "sudo lshw -C memory"
   ]
  },
  {
   "cell_type": "markdown",
   "id": "ed17c693",
   "metadata": {},
   "source": [
    "Como podemos observar, tenemos disponibles 8 cores 30 gigas de memoria.\n",
    "\n",
    "Ahora mostraremos las características del kernel utilizado."
   ]
  },
  {
   "cell_type": "code",
   "execution_count": 3,
   "id": "776c843e",
   "metadata": {},
   "outputs": [
    {
     "name": "stdout",
     "output_type": "stream",
     "text": [
      "Linux ip-10-0-0-123 5.4.0-1047-aws #49-Ubuntu SMP Wed Apr 28 22:47:04 UTC 2021 x86_64 x86_64 x86_64 GNU/Linux\n"
     ]
    }
   ],
   "source": [
    "%%bash\n",
    "uname -ar #r for kernel, a for all"
   ]
  },
  {
   "cell_type": "markdown",
   "id": "b73b87e2",
   "metadata": {},
   "source": [
    "* **Nota:** Como bien sabemos, no es una buena práctica realizar el análisis de perfilamiento de código de nuestros métodos o paquetes desarrollados utilizando _Jupyter notebooks_ debido a que se encapsulan procesos propios del _Jupyter_ y no aisla específicamente los procesos ejecutados del código perfilado. La sugerencia es realizarlo en un intérprete (nuestro caso de _Python_). Por temas académicos, en esta ocasión se desarrollará en el notebook.\n",
    "\n",
    "____\n",
    "\n",
    "En primer término evaluaremos el tiempo de ejecución que le toma a nuestro código desarrollado en práctica 2.1 con las reimplementaciones realizadas previamente.\n",
    "\n",
    "\n",
    "Importaremos nuestro paquete alojado en [Dockerhub](https://hub.docker.com) en la imágen lobolc/Opt_HC_CG:0.1. Para ello utilizaremos el repositorio de desarollo de GitHub de nuestra practica anterior.\n",
    "**NOTA PARA MI** Definir si el párrafo anterior se indica sólo en este punto o en un README.\n",
    "\n",
    "\n",
    "#### DISEÑO DEL _TESTING_  \n",
    "Debido a la naturaleza de nuestro método (metaheurístico), encontrar una solución ópitma global puede resultar imposible conforme se incrementan el número de nodos-ciudad a evaluar para determinar la ruta más corta en el _TSP_. Por este motivo, debemos precisar que nuestro método obtiene la ruta óptima global con un subconjunto de hasta 17 ciudades y aproximaciones menores a un 10% en comparación con la paquetería de OR-tools que utilizaremos para nuestros _test_.\n",
    "\n",
    "Por lo tanto, para poder realizar nuestro _testing_ hemos decidido utilizar como métrica lo siguiente:\n",
    "> 1 - la proporción de la distancia obtenida por nuestro método dividida por la distancia obtenida con el método de OR-tools de GOOGLE, de tal forma que un valor cercano a 0 nos indica que ambas rutas son aproximadamente iguales, con una tolerancia de 1e-1.\n",
    "\n",
    "**Nota:** es importante indicar que la intención del test no es evaluar que se encuentre la misma ruta, si no que la mejor ruta encontrada sea relativamente cercana entre nuestra implementación y la paquetería de comparación.\n",
    "\n",
    "Packages and libraries required:"
   ]
  },
  {
   "cell_type": "code",
   "execution_count": 4,
   "id": "19bc9362",
   "metadata": {},
   "outputs": [],
   "source": [
    "import math\n",
    "import time\n",
    "import os\n",
    "import numpy as np\n",
    "import pandas as pd"
   ]
  },
  {
   "cell_type": "markdown",
   "id": "e3b03af6",
   "metadata": {},
   "source": [
    "Realizar _Import_ de nuestro paquete con el método implementado\n",
    ">**Nota:** en este caso utilizaremos las funciones integradas en nuestro módulo hill_final.py que contiene la reimplementación que fue necesario realizar sobre nuestro método para corregir un Bug (@Mayo 12, 2021)."
   ]
  },
  {
   "cell_type": "code",
   "execution_count": 5,
   "id": "4b03d82d",
   "metadata": {},
   "outputs": [],
   "source": [
    "pth = os.getcwd()\n",
    "os.chdir(\"../\")\n",
    "import notebooks.hill_final as hc\n",
    "os.chdir(pth)"
   ]
  },
  {
   "cell_type": "markdown",
   "id": "8050b349",
   "metadata": {},
   "source": [
    "_Test_ packages requirements"
   ]
  },
  {
   "cell_type": "code",
   "execution_count": 6,
   "id": "5e57ea13",
   "metadata": {},
   "outputs": [],
   "source": [
    "from pytest import approx\n",
    "import google_or_tools_tsp as tsp"
   ]
  },
  {
   "cell_type": "markdown",
   "id": "287268a6",
   "metadata": {},
   "source": [
    "Extraeremos y aplicaremos algunas transformaciones a nuestro dataset:"
   ]
  },
  {
   "cell_type": "code",
   "execution_count": 7,
   "id": "462dfffb",
   "metadata": {},
   "outputs": [],
   "source": [
    "raw_data = pd.read_csv(\"../datasets/ca4663.tsp\", sep = \" \", names = ['index','x','y'])"
   ]
  },
  {
   "cell_type": "markdown",
   "id": "d00ade43",
   "metadata": {},
   "source": [
    "Para efectos de esta práctica, analizaremos un ejemplo didáctico práctico con 20 ciudades para obtener, en un tiempo razonable para la tolerancia y _number of restarts_, una aproximación consistente tanto con nuestro método con el paquete de OR-tools"
   ]
  },
  {
   "cell_type": "code",
   "execution_count": 8,
   "id": "fe7a657a",
   "metadata": {},
   "outputs": [],
   "source": [
    "raw_data1 = raw_data.drop(['index'], axis = 1)\n",
    "raw_data2 = raw_data1.dropna()\n",
    "tsp_cities = raw_data2.iloc[0:17,].to_numpy()"
   ]
  },
  {
   "cell_type": "markdown",
   "id": "ad145320",
   "metadata": {},
   "source": [
    "En nuestra función _opt.best_solution()_ desarrollamos el método de _Hill Climbing_ para la determinación de la ruta óptima y la distancia menor al resolver el problema de _Traveling Salesman Problem_ (TSP). También se incluyo la función time del paquete time time que se utiliza en el perfilamiento. Está constituida por cuatro subfunciones a las que se llama durante la ejecución:\n",
    "\n",
    "* distance_matrix(coordinate): calcula la matriz de distancias (distancia euclideana).  \n",
    "* random_solution(matrix, initial_point): constuye una ruta aleatoria con los nodos-ciudad  \n",
    "* calculate_distance(matrix, solution): calcula la distancia entre nodos-ciudad  \n",
    "* neighbors(matrix, solution): construye todas las posibles rutas del \"vecindario\" en función de la cercanía de los nodos-ciudad de la _random solution_ propuesta y selecciona la mejor ruta (menor distancia).\n",
    "* best_solution(coordinate, initial_point = 0, tolerance = 1e-7): es la función principal con la que analizamos un subconjunto del espacio de soluciones y selecciona la mejor ruta posible para el número de subrutinas especificado (número de veces que se reinicia la búsqueda de la mejor ruta a partir de una nueva _random solution_) y   \n",
    "\n",
    "\n"
   ]
  },
  {
   "cell_type": "markdown",
   "id": "53996c80",
   "metadata": {},
   "source": [
    "----\n",
    "\n",
    "> **Medición de tiempo, Módulo: time**\n",
    "\n",
    "\n",
    "======= Medición de tiempo ======="
   ]
  },
  {
   "cell_type": "code",
   "execution_count": 9,
   "id": "1d2dfd51",
   "metadata": {},
   "outputs": [
    {
     "name": "stdout",
     "output_type": "stream",
     "text": [
      "La implementación de nuestro método indica que la mejor ruta ecncontrada es:\n",
      " [0, 3, 2, 4, 7, 16, 14, 9, 10, 8, 15, 11, 13, 12, 6, 5, 1, 0] \n",
      " con una distancia óptima de:\n",
      " 3284.2634919757206\n",
      "\n",
      "Tiempo de ejecución: 2.6138317584991455 segundos\n"
     ]
    }
   ],
   "source": [
    "start_time = time.time()\n",
    "\n",
    "# hc.best_solution(order of parameters: dataset, initial point, tolerance and number of restart)\n",
    "hc_best_dist, hc_best_path, hc_exec_time = hc.best_solution(tsp_cities, 0 , 1e-9, 300)\n",
    "\n",
    "end_time = time.time()\n",
    "secs = end_time-start_time\n",
    "\n",
    "print(\"La implementación de nuestro método indica que la mejor ruta ecncontrada es:\\n\", hc_best_path, \"\\n con una distancia óptima de:\\n\", hc_best_dist)\n",
    "print(\"\\nTiempo de ejecución:\",secs,\"segundos\" )"
   ]
  },
  {
   "cell_type": "markdown",
   "id": "6accc496",
   "metadata": {},
   "source": [
    "======= Calcular Objetivo (Google OR-tools) ======="
   ]
  },
  {
   "cell_type": "code",
   "execution_count": 10,
   "id": "7795ca1e",
   "metadata": {},
   "outputs": [
    {
     "name": "stdout",
     "output_type": "stream",
     "text": [
      "Objective: 3316\n",
      "Route:\n",
      " 0 -> 3 -> 8 -> 10 -> 4 -> 2 -> 9 -> 7 -> 14 -> 16 -> 15 -> 11 -> 13 -> 12 -> 6 -> 5 -> 1 -> 0\n",
      "\n"
     ]
    }
   ],
   "source": [
    "tsp_sol = tsp.main(tsp_cities)\n",
    "\n",
    "obj = 1 - hc_best_dist/tsp_sol"
   ]
  },
  {
   "cell_type": "markdown",
   "id": "726e8be5",
   "metadata": {},
   "source": [
    "======= Validar la solución ======="
   ]
  },
  {
   "cell_type": "code",
   "execution_count": 27,
   "id": "388a30a6",
   "metadata": {},
   "outputs": [
    {
     "name": "stdout",
     "output_type": "stream",
     "text": [
      "True\n"
     ]
    }
   ],
   "source": [
    "print(obj == approx(0, abs=1e-1))"
   ]
  },
  {
   "cell_type": "markdown",
   "id": "0d065f76",
   "metadata": {},
   "source": [
    "> **Medición de tiempo, Comando de _magic_: %time**"
   ]
  },
  {
   "cell_type": "code",
   "execution_count": 41,
   "id": "12192609",
   "metadata": {
    "scrolled": true
   },
   "outputs": [
    {
     "name": "stdout",
     "output_type": "stream",
     "text": [
      "CPU times: user 2.55 s, sys: 19 µs, total: 2.55 s\n",
      "Wall time: 2.54 s\n"
     ]
    },
    {
     "data": {
      "text/plain": [
       "(3339.391869957482,\n",
       " [0, 3, 4, 2, 7, 16, 14, 9, 10, 8, 15, 11, 13, 12, 6, 1, 5, 0],\n",
       " 2.5445618629455566)"
      ]
     },
     "execution_count": 41,
     "metadata": {},
     "output_type": "execute_result"
    }
   ],
   "source": [
    "%time hc.best_solution(tsp_cities, 0 , 1e-9, 300)"
   ]
  },
  {
   "cell_type": "markdown",
   "id": "f74cc3fc",
   "metadata": {},
   "source": [
    "Con lo anterior, identificamos lo siguiente:\n",
    "   * 2.58 segundos del proceso fueron para funciones no relacionadas con el _kernel_ del sistema (procesos de alojamiento, lectura y escritura de variables en memoria, I/O de disco, networking, etc).\n",
    "   * 0 nanosegundos se utilizaron para funciones a nivel _kernel_ del sistema.\n",
    "\n",
    "También observamos que el tiempo de ejecución (_wall clock_ o _elapsed time_) desde el inicio de los statements hasta su finalización es exactamente los 2.58 segundos que coinciden con _user_ en este caso.\n",
    "\n",
    "Al no existir diferencia notable entre _total_ y _wall time_, se observa que el tiempo de ejecución no se ocupó en tareas que no involucran a sys o a user.\n",
    "\n",
    "Se observó que al volver a ejecutar el proceso anterior, existe variación en las mediciones, por lo que se dificultó realizar las observaciones anteriores. Con el objetivo de disminuir tal variación, utilizarmos la funcionalidad de Timeit (realizar mediciones un número repetido de veces)."
   ]
  },
  {
   "cell_type": "markdown",
   "id": "3ad3a8f0",
   "metadata": {},
   "source": [
    "> **Medición de tiempo, Comando de _Timeit_: %timeit**\n",
    "\n",
    "Ejecutaremos este comando para evaluar nuestro método, considerando promediar los tiempos de n=7 ejecuciones calculando su desviación estándar. Este proceso se ejecutará r=11 veces para reportar el mejor resultado.    "
   ]
  },
  {
   "cell_type": "code",
   "execution_count": 42,
   "id": "d2e171fc",
   "metadata": {},
   "outputs": [
    {
     "name": "stdout",
     "output_type": "stream",
     "text": [
      "2.6 s ± 12.2 ms per loop (mean ± std. dev. of 11 runs, 7 loops each)\n"
     ]
    }
   ],
   "source": [
    "%timeit -n 7 -r 11 hc.best_solution(tsp_cities, 0 , 1e-9, 300)"
   ]
  },
  {
   "cell_type": "markdown",
   "id": "38d78ecf",
   "metadata": {},
   "source": [
    "Concluimos que el tiempo promedio de ejecución de nuestro método es de 2.6 segundos con una desviación estándar de 12.2 milisegundos, que es comparable con los 2.54segundos de _%time_.\n",
    "\n",
    "> **Medición de tiempo, _cProfile_**"
   ]
  },
  {
   "cell_type": "code",
   "execution_count": 43,
   "id": "6dafccac",
   "metadata": {},
   "outputs": [],
   "source": [
    "import cProfile"
   ]
  },
  {
   "cell_type": "code",
   "execution_count": 44,
   "id": "18e44d92",
   "metadata": {},
   "outputs": [
    {
     "name": "stdout",
     "output_type": "stream",
     "text": [
      "         1700243 function calls (1699954 primitive calls) in 2.850 seconds\n",
      "\n",
      "   Ordered by: cumulative time\n",
      "\n",
      "   ncalls  tottime  percall  cumtime  percall filename:lineno(function)\n",
      "        2    0.000    0.000    2.850    1.425 interactiveshell.py:3400(run_code)\n",
      "        2    0.000    0.000    2.850    1.425 {built-in method builtins.exec}\n",
      "        1    0.000    0.000    2.850    2.850 <ipython-input-44-2aa36a8b218e>:3(<module>)\n",
      "        1    0.015    0.015    2.850    2.850 hill_final.py:94(best_solution)\n",
      "     3752    0.217    0.000    2.814    0.001 hill_final.py:64(neighbors)\n",
      "   398013    2.508    0.000    2.532    0.000 hill_final.py:48(calculate_distance)\n",
      "   393960    0.035    0.000    0.035    0.000 {method 'copy' of 'list' objects}\n",
      "   467235    0.030    0.000    0.030    0.000 {built-in method builtins.len}\n",
      "   399366    0.028    0.000    0.028    0.000 {method 'append' of 'list' objects}\n",
      "      301    0.004    0.000    0.014    0.000 hill_final.py:25(random_solution)\n",
      "     4816    0.001    0.000    0.008    0.000 random.py:244(randint)\n",
      "     4816    0.003    0.000    0.006    0.000 random.py:200(randrange)\n",
      "        1    0.001    0.001    0.004    0.004 hill_final.py:6(distance_matrix)\n",
      "     4816    0.003    0.000    0.004    0.000 random.py:250(_randbelow_with_getrandbits)\n",
      "      289    0.000    0.000    0.003    0.000 <__array_function__ internals>:2(norm)\n",
      "  579/290    0.001    0.000    0.003    0.000 {built-in method numpy.core._multiarray_umath.implement_array_function}\n",
      "      289    0.001    0.000    0.003    0.000 linalg.py:2362(norm)\n",
      "      289    0.000    0.000    0.002    0.000 <__array_function__ internals>:2(dot)\n",
      "     5117    0.001    0.000    0.001    0.000 {method 'remove' of 'list' objects}\n",
      "     7543    0.001    0.000    0.001    0.000 {method 'getrandbits' of '_random.Random' objects}\n",
      "     4816    0.000    0.000    0.000    0.000 {method 'bit_length' of 'int' objects}\n",
      "     1875    0.000    0.000    0.000    0.000 {built-in method builtins.abs}\n",
      "      290    0.000    0.000    0.000    0.000 _asarray.py:23(asarray)\n",
      "      289    0.000    0.000    0.000    0.000 {method 'ravel' of 'numpy.ndarray' objects}\n",
      "      290    0.000    0.000    0.000    0.000 {built-in method numpy.array}\n",
      "      289    0.000    0.000    0.000    0.000 linalg.py:112(isComplexType)\n",
      "      578    0.000    0.000    0.000    0.000 {built-in method builtins.issubclass}\n",
      "        2    0.000    0.000    0.000    0.000 codeop.py:140(__call__)\n",
      "        2    0.000    0.000    0.000    0.000 {built-in method builtins.compile}\n",
      "      289    0.000    0.000    0.000    0.000 linalg.py:2358(_norm_dispatcher)\n",
      "        1    0.000    0.000    0.000    0.000 <__array_function__ internals>:2(reshape)\n",
      "      289    0.000    0.000    0.000    0.000 multiarray.py:716(dot)\n",
      "        1    0.000    0.000    0.000    0.000 fromnumeric.py:199(reshape)\n",
      "        1    0.000    0.000    0.000    0.000 fromnumeric.py:52(_wrapfunc)\n",
      "        1    0.000    0.000    0.000    0.000 fromnumeric.py:39(_wrapit)\n",
      "        2    0.000    0.000    0.000    0.000 contextlib.py:238(helper)\n",
      "        2    0.000    0.000    0.000    0.000 contextlib.py:108(__enter__)\n",
      "        2    0.000    0.000    0.000    0.000 contextlib.py:82(__init__)\n",
      "        4    0.000    0.000    0.000    0.000 {built-in method builtins.next}\n",
      "        2    0.000    0.000    0.000    0.000 contextlib.py:117(__exit__)\n",
      "        2    0.000    0.000    0.000    0.000 hooks.py:103(__call__)\n",
      "        1    0.000    0.000    0.000    0.000 <ipython-input-44-2aa36a8b218e>:4(<module>)\n",
      "        4    0.000    0.000    0.000    0.000 compilerop.py:166(extra_flags)\n",
      "        2    0.000    0.000    0.000    0.000 traitlets.py:564(__get__)\n",
      "        6    0.000    0.000    0.000    0.000 {built-in method builtins.getattr}\n",
      "        1    0.000    0.000    0.000    0.000 {method 'reshape' of 'numpy.ndarray' objects}\n",
      "        2    0.000    0.000    0.000    0.000 interactiveshell.py:3338(compare)\n",
      "        2    0.000    0.000    0.000    0.000 traitlets.py:533(get)\n",
      "        2    0.000    0.000    0.000    0.000 ipstruct.py:125(__getattr__)\n",
      "        2    0.000    0.000    0.000    0.000 interactiveshell.py:1278(user_global_ns)\n",
      "        2    0.000    0.000    0.000    0.000 {built-in method time.time}\n",
      "        2    0.000    0.000    0.000    0.000 hooks.py:168(pre_run_code_hook)\n",
      "        1    0.000    0.000    0.000    0.000 {method 'disable' of '_lsprof.Profiler' objects}\n",
      "        1    0.000    0.000    0.000    0.000 fromnumeric.py:194(_reshape_dispatcher)\n",
      "\n",
      "\n"
     ]
    }
   ],
   "source": [
    "cprof = cProfile.Profile()\n",
    "cprof.enable()\n",
    "tsp_hc = hc.best_solution(tsp_cities, 0 , 1e-9, 300)\n",
    "cprof.disable()\n",
    "cprof.print_stats(sort='cumtime') # buscamo analizar donde se concentre el mayor tiempo acumulado de nuestra func."
   ]
  },
  {
   "cell_type": "markdown",
   "id": "1125ca2f",
   "metadata": {},
   "source": [
    "Notemos que al haber realizado el perfilamiento con cProfile, nuestro tiempo de ejecución promedio de 2.6 segundos se incremento a 2.85 segundos, lo cual es normal al utilizar esta funcionalidad.  \n",
    "En este caso, nos enfocaremos en analizar los procesos en los que se realiza una mayor inversión de tiempo:\n",
    "* Nuestra función calculate_distance fue llamada 398,013 con un tiempo de _tottime_ 2.508 segundos (correspondiente a la línea 48 de nuestro módulo).\n",
    "* Se tienen otros tres procesos independientes (tottime=cumtime) que implican la mayor cantidad de tiempo de ejecución: method 'copy' of 'list' objects que tiene 393,960 llamadas con 0.035 segundos; built-in method builtins.len con 467,235 llamadas y 0.030 segundos; method 'append' of 'list' objects con 399,366 llamads y 0.028 seugundos.\n",
    "* Nuestra función (neighbors, linea 64 de nuestro módulo) fue invocada 3,752 veces con un tiempo de ejecución _tottime_ .217 segundos. Es importante observar que en este caso tenemos un _cumtime_ de 2.814 segundos, que incluye los 2.6 segundos de las funciones anteriores y algunas otras de menor tiempo de procesamiento.\n",
    "\n",
    "Con el objetivo de poder realizar un análisis simplificado de la información anterior, utilizaremos _pstats_ de la clase _Stats_ para un resumen más accesible. En este caso, buscaremos observar las llamadas a method y built.in methods:"
   ]
  },
  {
   "cell_type": "code",
   "execution_count": 50,
   "id": "23960402",
   "metadata": {},
   "outputs": [],
   "source": [
    "cprof.dump_stats(\"tsp_hc_stats\")\n",
    "import pstats\n",
    "p_hc_stats = pstats.Stats(\"tsp_hc_stats\")"
   ]
  },
  {
   "cell_type": "code",
   "execution_count": 51,
   "id": "5791d689",
   "metadata": {},
   "outputs": [
    {
     "name": "stdout",
     "output_type": "stream",
     "text": [
      "Fri May 14 04:25:26 2021    tsp_hc_stats\n",
      "\n",
      "         1700243 function calls (1699954 primitive calls) in 2.850 seconds\n",
      "\n",
      "   Ordered by: cumulative time\n",
      "   List reduced from 54 to 18 due to restriction <'method|built-in'>\n",
      "\n",
      "   ncalls  tottime  percall  cumtime  percall filename:lineno(function)\n",
      "        2    0.000    0.000    2.850    1.425 {built-in method builtins.exec}\n",
      "   393960    0.035    0.000    0.035    0.000 {method 'copy' of 'list' objects}\n",
      "   467235    0.030    0.000    0.030    0.000 {built-in method builtins.len}\n",
      "   399366    0.028    0.000    0.028    0.000 {method 'append' of 'list' objects}\n",
      "  579/290    0.001    0.000    0.003    0.000 {built-in method numpy.core._multiarray_umath.implement_array_function}\n",
      "     5117    0.001    0.000    0.001    0.000 {method 'remove' of 'list' objects}\n",
      "     7543    0.001    0.000    0.001    0.000 {method 'getrandbits' of '_random.Random' objects}\n",
      "     4816    0.000    0.000    0.000    0.000 {method 'bit_length' of 'int' objects}\n",
      "     1875    0.000    0.000    0.000    0.000 {built-in method builtins.abs}\n",
      "      289    0.000    0.000    0.000    0.000 {method 'ravel' of 'numpy.ndarray' objects}\n",
      "      290    0.000    0.000    0.000    0.000 {built-in method numpy.array}\n",
      "      578    0.000    0.000    0.000    0.000 {built-in method builtins.issubclass}\n",
      "        2    0.000    0.000    0.000    0.000 {built-in method builtins.compile}\n",
      "        4    0.000    0.000    0.000    0.000 {built-in method builtins.next}\n",
      "        6    0.000    0.000    0.000    0.000 {built-in method builtins.getattr}\n",
      "        1    0.000    0.000    0.000    0.000 {method 'reshape' of 'numpy.ndarray' objects}\n",
      "        2    0.000    0.000    0.000    0.000 {built-in method time.time}\n",
      "        1    0.000    0.000    0.000    0.000 {method 'disable' of '_lsprof.Profiler' objects}\n",
      "\n",
      "\n",
      "<pstats.Stats object at 0x7f9a40f1f550>\n"
     ]
    }
   ],
   "source": [
    "print(p_hc_stats.sort_stats(\"cumulative\").print_stats(\"method|built-in\"))"
   ]
  },
  {
   "cell_type": "markdown",
   "id": "85bdd576",
   "metadata": {},
   "source": [
    "Mostraremos ahora cuántas llamadas a funciones _built-in_ se realizaron y cuáles funciones están realizando llamadas a otras.\n",
    "\n",
    "Esto es de suma importancia, pues nos permite visualizar las posibles dependencias y _bottlenecks_ que podrían existir en nuestro código."
   ]
  },
  {
   "cell_type": "code",
   "execution_count": 52,
   "id": "5e05c74a",
   "metadata": {},
   "outputs": [
    {
     "name": "stdout",
     "output_type": "stream",
     "text": [
      "1699954\n"
     ]
    }
   ],
   "source": [
    "print(p_hc_stats.prim_calls)"
   ]
  },
  {
   "cell_type": "code",
   "execution_count": 53,
   "id": "9e92e874",
   "metadata": {},
   "outputs": [
    {
     "name": "stdout",
     "output_type": "stream",
     "text": [
      "   Ordered by: cumulative time\n",
      "\n",
      "Function                                                                 was called by...\n",
      "                                                                             ncalls  tottime  cumtime\n",
      "interactiveshell.py:3400(run_code)                                       <- \n",
      "{built-in method builtins.exec}                                          <-       2    0.000    2.850  interactiveshell.py:3400(run_code)\n",
      "<ipython-input-44-2aa36a8b218e>:3(<module>)                              <-       1    0.000    2.850  {built-in method builtins.exec}\n",
      "hill_final.py:94(best_solution)                                          <-       1    0.015    2.850  <ipython-input-44-2aa36a8b218e>:3(<module>)\n",
      "hill_final.py:64(neighbors)                                              <-    3752    0.217    2.814  hill_final.py:94(best_solution)\n",
      "hill_final.py:48(calculate_distance)                                     <-  397712    2.506    2.530  hill_final.py:64(neighbors)\n",
      "                                                                                301    0.002    0.002  hill_final.py:94(best_solution)\n",
      "{method 'copy' of 'list' objects}                                        <-  393960    0.035    0.035  hill_final.py:64(neighbors)\n",
      "{built-in method builtins.len}                                           <-      20    0.000    0.000  hill_final.py:6(distance_matrix)\n",
      "                                                                               5418    0.000    0.000  hill_final.py:25(random_solution)\n",
      "                                                                             398013    0.025    0.025  hill_final.py:48(calculate_distance)\n",
      "                                                                              63784    0.005    0.005  hill_final.py:64(neighbors)\n",
      "{method 'append' of 'list' objects}                                      <-     289    0.000    0.000  hill_final.py:6(distance_matrix)\n",
      "                                                                               5117    0.001    0.001  hill_final.py:25(random_solution)\n",
      "                                                                             393960    0.027    0.027  hill_final.py:64(neighbors)\n",
      "hill_final.py:25(random_solution)                                        <-     301    0.004    0.014  hill_final.py:94(best_solution)\n",
      "random.py:244(randint)                                                   <-    4816    0.001    0.008  hill_final.py:25(random_solution)\n",
      "random.py:200(randrange)                                                 <-    4816    0.003    0.006  random.py:244(randint)\n",
      "hill_final.py:6(distance_matrix)                                         <-       1    0.001    0.004  hill_final.py:94(best_solution)\n",
      "random.py:250(_randbelow_with_getrandbits)                               <-    4816    0.003    0.004  random.py:200(randrange)\n",
      "<__array_function__ internals>:2(norm)                                   <-     289    0.000    0.003  hill_final.py:6(distance_matrix)\n",
      "{built-in method numpy.core._multiarray_umath.implement_array_function}  <-     289    0.001    0.001  <__array_function__ internals>:2(dot)\n",
      "                                                                                289    0.000    0.003  <__array_function__ internals>:2(norm)\n",
      "                                                                                  1    0.000    0.000  <__array_function__ internals>:2(reshape)\n",
      "linalg.py:2362(norm)                                                     <-     289    0.001    0.003  {built-in method numpy.core._multiarray_umath.implement_array_function}\n",
      "<__array_function__ internals>:2(dot)                                    <-     289    0.000    0.002  linalg.py:2362(norm)\n",
      "{method 'remove' of 'list' objects}                                      <-    5117    0.001    0.001  hill_final.py:25(random_solution)\n",
      "{method 'getrandbits' of '_random.Random' objects}                       <-    7543    0.001    0.001  random.py:250(_randbelow_with_getrandbits)\n",
      "{method 'bit_length' of 'int' objects}                                   <-    4816    0.000    0.000  random.py:250(_randbelow_with_getrandbits)\n",
      "{built-in method builtins.abs}                                           <-    1875    0.000    0.000  hill_final.py:94(best_solution)\n",
      "_asarray.py:23(asarray)                                                  <-       1    0.000    0.000  fromnumeric.py:39(_wrapit)\n",
      "                                                                                289    0.000    0.000  linalg.py:2362(norm)\n",
      "{method 'ravel' of 'numpy.ndarray' objects}                              <-     289    0.000    0.000  linalg.py:2362(norm)\n",
      "{built-in method numpy.array}                                            <-     290    0.000    0.000  _asarray.py:23(asarray)\n",
      "linalg.py:112(isComplexType)                                             <-     289    0.000    0.000  linalg.py:2362(norm)\n",
      "{built-in method builtins.issubclass}                                    <-     289    0.000    0.000  linalg.py:112(isComplexType)\n",
      "                                                                                289    0.000    0.000  linalg.py:2362(norm)\n",
      "codeop.py:140(__call__)                                                  <- \n",
      "{built-in method builtins.compile}                                       <-       2    0.000    0.000  codeop.py:140(__call__)\n",
      "linalg.py:2358(_norm_dispatcher)                                         <-     289    0.000    0.000  <__array_function__ internals>:2(norm)\n",
      "<__array_function__ internals>:2(reshape)                                <-       1    0.000    0.000  hill_final.py:6(distance_matrix)\n",
      "multiarray.py:716(dot)                                                   <-     289    0.000    0.000  <__array_function__ internals>:2(dot)\n",
      "fromnumeric.py:199(reshape)                                              <-       1    0.000    0.000  {built-in method numpy.core._multiarray_umath.implement_array_function}\n",
      "fromnumeric.py:52(_wrapfunc)                                             <-       1    0.000    0.000  fromnumeric.py:199(reshape)\n",
      "fromnumeric.py:39(_wrapit)                                               <-       1    0.000    0.000  fromnumeric.py:52(_wrapfunc)\n",
      "contextlib.py:238(helper)                                                <- \n",
      "contextlib.py:108(__enter__)                                             <- \n",
      "contextlib.py:82(__init__)                                               <-       2    0.000    0.000  contextlib.py:238(helper)\n",
      "{built-in method builtins.next}                                          <-       2    0.000    0.000  contextlib.py:108(__enter__)\n",
      "                                                                                  2    0.000    0.000  contextlib.py:117(__exit__)\n",
      "contextlib.py:117(__exit__)                                              <- \n",
      "hooks.py:103(__call__)                                                   <-       2    0.000    0.000  interactiveshell.py:3400(run_code)\n",
      "<ipython-input-44-2aa36a8b218e>:4(<module>)                              <-       1    0.000    0.000  {built-in method builtins.exec}\n",
      "compilerop.py:166(extra_flags)                                           <-       4    0.000    0.000  {built-in method builtins.next}\n",
      "traitlets.py:564(__get__)                                                <- \n",
      "{built-in method builtins.getattr}                                       <-       2    0.000    0.000  contextlib.py:82(__init__)\n",
      "                                                                                  1    0.000    0.000  fromnumeric.py:39(_wrapit)\n",
      "                                                                                  1    0.000    0.000  fromnumeric.py:52(_wrapfunc)\n",
      "{method 'reshape' of 'numpy.ndarray' objects}                            <-       1    0.000    0.000  fromnumeric.py:39(_wrapit)\n",
      "interactiveshell.py:3338(compare)                                        <- \n",
      "traitlets.py:533(get)                                                    <-       2    0.000    0.000  traitlets.py:564(__get__)\n",
      "ipstruct.py:125(__getattr__)                                             <-       2    0.000    0.000  interactiveshell.py:3400(run_code)\n",
      "interactiveshell.py:1278(user_global_ns)                                 <-       2    0.000    0.000  interactiveshell.py:3400(run_code)\n",
      "{built-in method time.time}                                              <-       2    0.000    0.000  hill_final.py:94(best_solution)\n",
      "hooks.py:168(pre_run_code_hook)                                          <-       2    0.000    0.000  hooks.py:103(__call__)\n",
      "{method 'disable' of '_lsprof.Profiler' objects}                         <-       1    0.000    0.000  <ipython-input-44-2aa36a8b218e>:4(<module>)\n",
      "fromnumeric.py:194(_reshape_dispatcher)                                  <-       1    0.000    0.000  <__array_function__ internals>:2(reshape)\n",
      "\n",
      "\n"
     ]
    },
    {
     "data": {
      "text/plain": [
       "<pstats.Stats at 0x7f9a40f1f550>"
      ]
     },
     "execution_count": 53,
     "metadata": {},
     "output_type": "execute_result"
    }
   ],
   "source": [
    "p_hc_stats.strip_dirs().sort_stats(\"cumulative\").print_callers()"
   ]
  },
  {
   "cell_type": "markdown",
   "id": "19697103",
   "metadata": {},
   "source": [
    "Observamos que existe una fuerte interacción entre calculate_distances y neighbors. Algo que es sumamente importante mencionar y revisar es que existen llamadas vacías particularmente de las funciones anteriores.\n",
    "\n",
    "> **Medición de tiempo, line_profiler**\n",
    "\n",
    "Una vez realizado el perfilamiento con cProfile, nos enfocaremos en analizar las funciones que tienen un mayor consumo de tiempo utilizando line_profiler:"
   ]
  },
  {
   "cell_type": "code",
   "execution_count": 55,
   "id": "84a623ef",
   "metadata": {},
   "outputs": [
    {
     "name": "stdout",
     "output_type": "stream",
     "text": [
      "(3319.127344323918, [0, 3, 8, 4, 2, 7, 16, 14, 9, 10, 15, 11, 13, 12, 6, 5, 1, 0], 5.007052659988403)\n"
     ]
    }
   ],
   "source": [
    "import line_profiler\n",
    "line_prof = line_profiler.LineProfiler()\n",
    "print(line_prof(hc.best_solution)(tsp_cities, 0 , 1e-9, 300))"
   ]
  },
  {
   "cell_type": "code",
   "execution_count": 56,
   "id": "dfafbf5e",
   "metadata": {},
   "outputs": [
    {
     "name": "stdout",
     "output_type": "stream",
     "text": [
      "Timer unit: 1e-06 s\n",
      "\n",
      "Total time: 5.0023 s\n",
      "File: /home/ubuntu/practica-2-segunda-parte-jlrzarcor/notebooks/hill_final.py\n",
      "Function: best_solution at line 94\n",
      "\n",
      "Line #      Hits         Time  Per Hit   % Time  Line Contents\n",
      "==============================================================\n",
      "    94                                           def best_solution(coordinate, initial_point = 0, tolerance = 1e-7, n_restarts = 100):\n",
      "    95                                               \"\"\"\n",
      "    96                                               finds an optimal solution for the TSP problem using hill climbing algorithm\n",
      "    97                                                   input:\n",
      "    98                                                       points[array]: coordinates of the places to be visited \n",
      "    99                                                       initial_point[integer]: number of the place to be visited first\n",
      "   100                                                       tolerance[float]: value that indicates the solution is not improving\n",
      "   101                                                   outputs:\n",
      "   102                                                       bst_distance[float]: distance of the best route \n",
      "   103                                                       best_sol[list]: order the places to be visted in the optimal solution\n",
      "   104                                                       time[float]: time that take the algorithm to obtain the solution    \n",
      "   105                                               \"\"\"\n",
      "   106         1          2.0      2.0      0.0      start_time = time.time()\n",
      "   107         1       6124.0   6124.0      0.1      matrix = distance_matrix(coordinate)\n",
      "   108                                               \n",
      "   109         1         82.0     82.0      0.0      current_solution = random_solution(matrix, initial_point)\n",
      "   110         1         17.0     17.0      0.0      current_path = calculate_distance(matrix, current_solution)\n",
      "   111         1       1362.0   1362.0      0.0      neighbor = neighbors(matrix,current_solution)[0]\n",
      "   112         1       1355.0   1355.0      0.0      best_neighbor, best_neighbor_path = neighbors(matrix, neighbor)\n",
      "   113         1          2.0      2.0      0.0      global_path = 2 * current_path\n",
      "   114                                               \n",
      "   115       301        146.0      0.5      0.0      for _ in range(n_restarts):\n",
      "   116       600        279.0      0.5      0.0          while best_neighbor_path < current_path:\n",
      "   117      1835       1513.0      0.8      0.0              while abs(best_neighbor_path - current_path) > tolerance:\n",
      "   118      1535        714.0      0.5      0.0                  current_solution = best_neighbor\n",
      "   119      1535        651.0      0.4      0.0                  current_path = best_neighbor_path\n",
      "   120      1535    2076947.0   1353.1     41.5                  neighbor = neighbors(matrix, current_solution)[0]\n",
      "   121      1535    2077226.0   1353.2     41.5                  best_neighbor, best_neighbor_path = neighbors(matrix, neighbor)\n",
      "   122                                                           \n",
      "   123       300        122.0      0.4      0.0          if current_path < global_path:\n",
      "   124         7          4.0      0.6      0.0              global_path = current_path\n",
      "   125         7          2.0      0.3      0.0              global_solution = current_solution\n",
      "   126                                           \n",
      "   127       300      19738.0     65.8      0.4          current_solution = random_solution(matrix, initial_point)\n",
      "   128       300       3600.0     12.0      0.1          current_path = calculate_distance(matrix, current_solution)\n",
      "   129       300     406307.0   1354.4      8.1          neighbor = neighbors(matrix,current_solution)[0]\n",
      "   130       300     406108.0   1353.7      8.1          best_neighbor, best_neighbor_path = neighbors(matrix, neighbor)\n",
      "   131                                                   \n",
      "   132         1          4.0      4.0      0.0      return global_path, global_solution, time.time() - start_time\n",
      "\n",
      "None\n"
     ]
    }
   ],
   "source": [
    "print(line_prof.print_stats())"
   ]
  },
  {
   "cell_type": "markdown",
   "id": "b676cfba",
   "metadata": {},
   "source": [
    "Nuestra línea de código que más veces se ejecutó es la correspondiente a nuestro segundo ciclo _while_, el cual determina la mejor ruta del vecindario para una _initial random solution_ con 1835 ejecuciones, lo cual concuerda con las 300 iteraciones de reinicio (Ciclo for) y los while anidados para determinar las mejores rutas de forma aleatoria."
   ]
  },
  {
   "cell_type": "code",
   "execution_count": null,
   "id": "90fcfc34",
   "metadata": {},
   "outputs": [],
   "source": []
  },
  {
   "cell_type": "code",
   "execution_count": null,
   "id": "a4d99db0",
   "metadata": {},
   "outputs": [],
   "source": []
  },
  {
   "cell_type": "code",
   "execution_count": null,
   "id": "e39834b3",
   "metadata": {},
   "outputs": [],
   "source": []
  },
  {
   "cell_type": "code",
   "execution_count": null,
   "id": "a6228dbb",
   "metadata": {},
   "outputs": [],
   "source": []
  }
 ],
 "metadata": {
  "kernelspec": {
   "display_name": "Python 3",
   "language": "python",
   "name": "python3"
  },
  "language_info": {
   "codemirror_mode": {
    "name": "ipython",
    "version": 3
   },
   "file_extension": ".py",
   "mimetype": "text/x-python",
   "name": "python",
   "nbconvert_exporter": "python",
   "pygments_lexer": "ipython3",
   "version": "3.8.5"
  }
 },
 "nbformat": 4,
 "nbformat_minor": 5
}
