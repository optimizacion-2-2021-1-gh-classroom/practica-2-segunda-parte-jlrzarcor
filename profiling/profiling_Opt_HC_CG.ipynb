{
 "cells": [
  {
   "cell_type": "markdown",
   "id": "3c2b5508",
   "metadata": {},
   "source": [
    "# Maestría en Ciencia de Datos, ITAM\n",
    "\n",
    "**Curso de Optimización 2 2021-1,\"Optimización Avanzada\"\n",
    "Prof. Erick Palacios Moreno**\n",
    "\n",
    ">*Equipo 5:  \n",
    "MIGUEL LOPEZ  \n",
    "CARLOS LOPEZ  \n",
    "JOSÉ ZARATE  \n",
    "\n",
    "**PERFILAMIENTO DE CÓDIGO.**\n",
    "\n",
    "\n",
    "EXPLICAR LA REIMPLEMENTACIÓN QUE SE DESARROLLO \n",
    "\n",
    "El paquete que desarrollamos se compone de dos métodos de optimización convexa, uno metaheurístico Hill Climbing y uno por descenso en gradiente Conjugate Gradient. En este notebook realizaremos el perfilamiento de tales métodos, Hill Climbing aplicado para resolver el problema del viajero (TSP) por medio del análisis de la ruta más corta por distancia euclideana.\n",
    "\n",
    "Nota: el desarrollo de este notebook está basado en la secuencia de perfilamiento utilizada por el Profesor Erick Palacios Moreno en sus notas de clase (ver referencias en README).\n",
    "\n",
    "-----\n",
    "\n",
    "## RESOLVER EL PROBLEMA DE TRAVELING SALESMAN PROBLEM (A.K.A. TSP) PARA DISTINTAS CIUDADES UTILIZANDO EL MÉTODO DE HILL CLIMBING\n",
    "\n",
    "* Distancia Euclideana.\n",
    "> Dataset: National Traveling Salesman Problems, CANADA\n",
    "\n",
    "Para ello, realizaremos una ejecución para segemento del dataset con 100 ciudades:\n",
    "\n",
    "______\n",
    "\n",
    "**Hill Climbing**  \n",
    "\n",
    ".\n",
    "\n",
    "______\n",
    "\n",
    "**MODIFICACIONES DERIVADAS DE LA ETAPA DE EXPERIMENTACIÓN:**\n",
    "\n",
    ".\n",
    "\n",
    "-----\n",
    "\n",
    "**PERFILAMIENTO**  \n",
    "\n",
    "> Descripción de la instancia\n",
    "\n",
    "Hemos decidido utilizar una máquina AWS EC2 m5.2xlarge que es la de mayor capacidad disponible con el programa AWS EDUCATE. Sus características son:"
   ]
  },
  {
   "cell_type": "code",
   "execution_count": 13,
   "id": "83003e44",
   "metadata": {},
   "outputs": [
    {
     "name": "stdout",
     "output_type": "stream",
     "text": [
      "Architecture:                    x86_64\n",
      "CPU op-mode(s):                  32-bit, 64-bit\n",
      "Byte Order:                      Little Endian\n",
      "Address sizes:                   46 bits physical, 48 bits virtual\n",
      "CPU(s):                          8\n",
      "On-line CPU(s) list:             0-7\n",
      "Thread(s) per core:              2\n",
      "Core(s) per socket:              4\n",
      "Socket(s):                       1\n",
      "NUMA node(s):                    1\n",
      "Vendor ID:                       GenuineIntel\n",
      "CPU family:                      6\n",
      "Model:                           85\n",
      "Model name:                      Intel(R) Xeon(R) Platinum 8175M CPU @ 2.50GHz\n",
      "Stepping:                        4\n",
      "CPU MHz:                         3113.072\n",
      "BogoMIPS:                        5000.00\n",
      "Hypervisor vendor:               KVM\n",
      "Virtualization type:             full\n",
      "L1d cache:                       128 KiB\n",
      "L1i cache:                       128 KiB\n",
      "L2 cache:                        4 MiB\n",
      "L3 cache:                        33 MiB\n",
      "NUMA node0 CPU(s):               0-7\n",
      "Vulnerability Itlb multihit:     KVM: Vulnerable\n",
      "Vulnerability L1tf:              Mitigation; PTE Inversion\n",
      "Vulnerability Mds:               Vulnerable: Clear CPU buffers attempted, no microcode; SMT Host state unknown\n",
      "Vulnerability Meltdown:          Mitigation; PTI\n",
      "Vulnerability Spec store bypass: Vulnerable\n",
      "Vulnerability Spectre v1:        Mitigation; usercopy/swapgs barriers and __user pointer sanitization\n",
      "Vulnerability Spectre v2:        Mitigation; Full generic retpoline, STIBP disabled, RSB filling\n",
      "Vulnerability Srbds:             Not affected\n",
      "Vulnerability Tsx async abort:   Vulnerable: Clear CPU buffers attempted, no microcode; SMT Host state unknown\n",
      "Flags:                           fpu vme de pse tsc msr pae mce cx8 apic sep mtrr pge mca cmov pat pse36 clflush mmx fxsr sse sse2 ss ht syscall nx pdpe1gb rdtscp lm constant_tsc rep_good nopl xtopology nonstop_tsc cpuid aperfmperf tsc_known_freq pni pclmulqdq ssse3 fma cx16 pcid sse4_1 sse4_2 x2apic movbe popcnt tsc_deadline_timer aes xsave avx f16c rdrand hypervisor lahf_lm abm 3dnowprefetch invpcid_single pti fsgsbase tsc_adjust bmi1 hle avx2 smep bmi2 erms invpcid rtm mpx avx512f avx512dq rdseed adx smap clflushopt clwb avx512cd avx512bw avx512vl xsaveopt xsavec xgetbv1 xsaves ida arat pku ospke\n"
     ]
    }
   ],
   "source": [
    "%%bash\n",
    "lscpu"
   ]
  },
  {
   "cell_type": "code",
   "execution_count": 14,
   "id": "7ed0c19e",
   "metadata": {},
   "outputs": [
    {
     "name": "stdout",
     "output_type": "stream",
     "text": [
      "  *-firmware\n",
      "       description: BIOS\n",
      "       vendor: Amazon EC2\n",
      "       physical id: 0\n",
      "       version: 1.0\n",
      "       date: 10/16/2017\n",
      "       size: 64KiB\n",
      "       capacity: 64KiB\n",
      "       capabilities: pci edd acpi virtualmachine\n",
      "  *-memory\n",
      "       description: System memory\n",
      "       physical id: 1\n",
      "       size: 31GiB\n"
     ]
    }
   ],
   "source": [
    "%%bash\n",
    "sudo lshw -C memory"
   ]
  },
  {
   "cell_type": "markdown",
   "id": "e2291a59",
   "metadata": {},
   "source": [
    "Como podemos observar, tenemos disponibles 8 cores 30 gigas de memoria.\n",
    "\n",
    "Ahora mostraremos las características del kernel utilizado."
   ]
  },
  {
   "cell_type": "code",
   "execution_count": 15,
   "id": "0b721dbc",
   "metadata": {},
   "outputs": [
    {
     "name": "stdout",
     "output_type": "stream",
     "text": [
      "Linux ip-10-0-0-123 5.4.0-1047-aws #49-Ubuntu SMP Wed Apr 28 22:47:04 UTC 2021 x86_64 x86_64 x86_64 GNU/Linux\n"
     ]
    }
   ],
   "source": [
    "%%bash\n",
    "uname -ar #r for kernel, a for all"
   ]
  },
  {
   "cell_type": "markdown",
   "id": "4948ee15",
   "metadata": {},
   "source": [
    "* **Nota:** Como bien sabemos, no es una buena práctica realizar el análisis de perfilamiento de código de nuestros métodos o paquetes desarrollados utilizando _Jupyter notebooks_ debido a que se encapsulan procesos propios del _Jupyter_ y no aisla específicamente los procesos ejecutados del código perfilado. La sugerencia es realizarlo en un intérprete (nuestro caso de _Python_). Por temas académicos, en esta ocasión se desarrollará en el notebook.\n",
    "\n",
    "----\n",
    "\n",
    "> **Medición de tiempo**\n",
    "\n",
    "\n",
    "En primer término evaluaremos el tiempo de ejecución que le toma a nuestro código desarrollado en práctica 2.1 con las reimplementaciones realizadas previamente.\n",
    "\n",
    "Importaremos nuestro paquete alojado en [Dockerhub](https://hub.docker.com) en la imágen lobolc/Opt_HC_CG:0.1. Para ello utilizaremos el repositorio de desarollo de GitHub de nuestra practica anterior.\n",
    "**NOTA PARA MI** Definir si el párrafo anterior se indica sólo en este punto o en un README.\n",
    "\n"
   ]
  },
  {
   "cell_type": "code",
   "execution_count": 4,
   "id": "6caeb525",
   "metadata": {},
   "outputs": [],
   "source": [
    "# Import our Package to profile\n",
    "# Nota: en este caso utilizaremos las funciones integradas en el módulo hill_final.py que contiene la\n",
    "# reimplementación que fue necesario realizar sobre nuestro método.\n",
    "\n",
    "import hill_final as hc"
   ]
  },
  {
   "cell_type": "code",
   "execution_count": 5,
   "id": "d5ec5747",
   "metadata": {},
   "outputs": [],
   "source": [
    "# Packages and libraries required\n",
    "\n",
    "import math\n",
    "import time\n",
    "import numpy as np\n",
    "import pandas as pd"
   ]
  },
  {
   "cell_type": "code",
   "execution_count": 6,
   "id": "1abdc7b2",
   "metadata": {},
   "outputs": [],
   "source": [
    "# Testing packages requirements\n",
    "#!pip install --upgrade --user ortools\n",
    "\n",
    "from pytest import approx\n",
    "from ortools.constraint_solver import routing_enums_pb2\n",
    "from ortools.constraint_solver import pywrapcp"
   ]
  },
  {
   "cell_type": "markdown",
   "id": "8058a5e8",
   "metadata": {},
   "source": [
    "Extraeremos y aplicaremos algunas transformaciones a nuestro dataset:"
   ]
  },
  {
   "cell_type": "code",
   "execution_count": null,
   "id": "fe46ccf5",
   "metadata": {},
   "outputs": [],
   "source": [
    "raw_data = pd.read_csv(\"../datasets/ca4663.tsp\", sep = \" \", names = ['index','x','y'])"
   ]
  },
  {
   "cell_type": "markdown",
   "id": "c70ad354",
   "metadata": {},
   "source": [
    "Para efectos de esta práctica, analizaremos un ejemplo didáctico práctico con 10 ciudades"
   ]
  },
  {
   "cell_type": "code",
   "execution_count": 11,
   "id": "7d7af114",
   "metadata": {},
   "outputs": [],
   "source": [
    "raw_data1 = raw_data.drop(['index'], axis = 1)\n",
    "raw_data2 = raw_data1.dropna()\n",
    "tsp_cities = raw_data2.iloc[0:10,].to_numpy()"
   ]
  },
  {
   "cell_type": "markdown",
   "id": "9786c571",
   "metadata": {},
   "source": [
    "En nuestra función _opt.best_solution()_ desarrollamos el método de _Hill Climbing_ para la determinación de la ruta óptima y la distancia menor al resolver el problema de _Traveling Salesman Problem_ (TSP). También se incluyo la función time del paquete time time que se utiliza en el perfilamiento. Está constituida por cuatro subfunciones a las que se llama durante la ejecución:\n",
    "\n",
    "best_solution(coordinate, initial_point = 0, tolerance = 1e-7)\n",
    "neighbors(matrix, solution)\n",
    "calculate_distance(matrix, solution)\n",
    "random_solution(matrix, initial_point)\n",
    "distance_matrix(coordinate)"
   ]
  },
  {
   "cell_type": "code",
   "execution_count": 9,
   "id": "ac41f141",
   "metadata": {},
   "outputs": [
    {
     "ename": "KeyboardInterrupt",
     "evalue": "",
     "output_type": "error",
     "traceback": [
      "\u001b[0;31m---------------------------------------------------------------------------\u001b[0m",
      "\u001b[0;31mKeyboardInterrupt\u001b[0m                         Traceback (most recent call last)",
      "\u001b[0;32m<ipython-input-9-8537381eae81>\u001b[0m in \u001b[0;36m<module>\u001b[0;34m\u001b[0m\n\u001b[1;32m      1\u001b[0m \u001b[0;31m# parameters; dataset, initial point, tolerance and number of restart\u001b[0m\u001b[0;34m\u001b[0m\u001b[0;34m\u001b[0m\u001b[0;34m\u001b[0m\u001b[0m\n\u001b[1;32m      2\u001b[0m \u001b[0;34m\u001b[0m\u001b[0m\n\u001b[0;32m----> 3\u001b[0;31m \u001b[0mbest_distance\u001b[0m\u001b[0;34m,\u001b[0m \u001b[0mbest_path\u001b[0m\u001b[0;34m,\u001b[0m \u001b[0mexec_time\u001b[0m \u001b[0;34m=\u001b[0m \u001b[0mhc\u001b[0m\u001b[0;34m.\u001b[0m\u001b[0mbest_solution\u001b[0m\u001b[0;34m(\u001b[0m\u001b[0mtsp_cities\u001b[0m\u001b[0;34m,\u001b[0m \u001b[0;36m0\u001b[0m \u001b[0;34m,\u001b[0m \u001b[0;36m1e-6\u001b[0m\u001b[0;34m,\u001b[0m \u001b[0;36m100\u001b[0m\u001b[0;34m)\u001b[0m\u001b[0;34m\u001b[0m\u001b[0;34m\u001b[0m\u001b[0m\n\u001b[0m\u001b[1;32m      4\u001b[0m \u001b[0;34m\u001b[0m\u001b[0m\n",
      "\u001b[0;32m~/practica-2-segunda-parte-jlrzarcor/notebooks/hill_final.py\u001b[0m in \u001b[0;36mbest_solution\u001b[0;34m(coordinate, initial_point, tolerance, n_restarts)\u001b[0m\n\u001b[1;32m    108\u001b[0m     \u001b[0mcurrent_solution\u001b[0m \u001b[0;34m=\u001b[0m \u001b[0mrandom_solution\u001b[0m\u001b[0;34m(\u001b[0m\u001b[0mmatrix\u001b[0m\u001b[0;34m,\u001b[0m \u001b[0minitial_point\u001b[0m\u001b[0;34m)\u001b[0m\u001b[0;34m\u001b[0m\u001b[0;34m\u001b[0m\u001b[0m\n\u001b[1;32m    109\u001b[0m     \u001b[0mcurrent_path\u001b[0m \u001b[0;34m=\u001b[0m \u001b[0mcalculate_distance\u001b[0m\u001b[0;34m(\u001b[0m\u001b[0mmatrix\u001b[0m\u001b[0;34m,\u001b[0m \u001b[0mcurrent_solution\u001b[0m\u001b[0;34m)\u001b[0m\u001b[0;34m\u001b[0m\u001b[0;34m\u001b[0m\u001b[0m\n\u001b[0;32m--> 110\u001b[0;31m     \u001b[0mneighbor\u001b[0m \u001b[0;34m=\u001b[0m \u001b[0mneighbors\u001b[0m\u001b[0;34m(\u001b[0m\u001b[0mmatrix\u001b[0m\u001b[0;34m,\u001b[0m\u001b[0mcurrent_solution\u001b[0m\u001b[0;34m)\u001b[0m\u001b[0;34m[\u001b[0m\u001b[0;36m0\u001b[0m\u001b[0;34m]\u001b[0m\u001b[0;34m\u001b[0m\u001b[0;34m\u001b[0m\u001b[0m\n\u001b[0m\u001b[1;32m    111\u001b[0m     \u001b[0mbest_neighbor\u001b[0m\u001b[0;34m,\u001b[0m \u001b[0mbest_neighbor_path\u001b[0m \u001b[0;34m=\u001b[0m \u001b[0mneighbors\u001b[0m\u001b[0;34m(\u001b[0m\u001b[0mmatrix\u001b[0m\u001b[0;34m,\u001b[0m \u001b[0mneighbor\u001b[0m\u001b[0;34m)\u001b[0m\u001b[0;34m\u001b[0m\u001b[0;34m\u001b[0m\u001b[0m\n\u001b[1;32m    112\u001b[0m     \u001b[0mglobal_path\u001b[0m \u001b[0;34m=\u001b[0m \u001b[0;36m2\u001b[0m \u001b[0;34m*\u001b[0m \u001b[0mcurrent_path\u001b[0m\u001b[0;34m\u001b[0m\u001b[0;34m\u001b[0m\u001b[0m\n",
      "\u001b[0;32m~/practica-2-segunda-parte-jlrzarcor/notebooks/hill_final.py\u001b[0m in \u001b[0;36mneighbors\u001b[0;34m(matrix, solution)\u001b[0m\n\u001b[1;32m     84\u001b[0m \u001b[0;34m\u001b[0m\u001b[0m\n\u001b[1;32m     85\u001b[0m     \u001b[0;32mfor\u001b[0m \u001b[0mneighbor\u001b[0m \u001b[0;32min\u001b[0m \u001b[0mneighbors\u001b[0m\u001b[0;34m:\u001b[0m\u001b[0;34m\u001b[0m\u001b[0;34m\u001b[0m\u001b[0m\n\u001b[0;32m---> 86\u001b[0;31m         \u001b[0mcurrent_path\u001b[0m \u001b[0;34m=\u001b[0m \u001b[0mcalculate_distance\u001b[0m\u001b[0;34m(\u001b[0m\u001b[0mmatrix\u001b[0m\u001b[0;34m,\u001b[0m \u001b[0mneighbor\u001b[0m\u001b[0;34m)\u001b[0m\u001b[0;34m\u001b[0m\u001b[0;34m\u001b[0m\u001b[0m\n\u001b[0m\u001b[1;32m     87\u001b[0m         \u001b[0;32mif\u001b[0m \u001b[0mcurrent_path\u001b[0m \u001b[0;34m<\u001b[0m \u001b[0mbest_path\u001b[0m\u001b[0;34m:\u001b[0m\u001b[0;34m\u001b[0m\u001b[0;34m\u001b[0m\u001b[0m\n\u001b[1;32m     88\u001b[0m             \u001b[0mbest_path\u001b[0m \u001b[0;34m=\u001b[0m \u001b[0mcurrent_path\u001b[0m\u001b[0;34m\u001b[0m\u001b[0;34m\u001b[0m\u001b[0m\n",
      "\u001b[0;32m~/practica-2-segunda-parte-jlrzarcor/notebooks/hill_final.py\u001b[0m in \u001b[0;36mcalculate_distance\u001b[0;34m(matrix, solution)\u001b[0m\n\u001b[1;32m     57\u001b[0m     \u001b[0mdistance\u001b[0m \u001b[0;34m=\u001b[0m \u001b[0;36m0\u001b[0m\u001b[0;34m\u001b[0m\u001b[0;34m\u001b[0m\u001b[0m\n\u001b[1;32m     58\u001b[0m     \u001b[0;32mfor\u001b[0m \u001b[0mi\u001b[0m \u001b[0;32min\u001b[0m \u001b[0mrange\u001b[0m\u001b[0;34m(\u001b[0m\u001b[0;36m0\u001b[0m\u001b[0;34m,\u001b[0m \u001b[0mlen\u001b[0m\u001b[0;34m(\u001b[0m\u001b[0msolution\u001b[0m\u001b[0;34m)\u001b[0m\u001b[0;34m)\u001b[0m\u001b[0;34m:\u001b[0m\u001b[0;34m\u001b[0m\u001b[0;34m\u001b[0m\u001b[0m\n\u001b[0;32m---> 59\u001b[0;31m         \u001b[0mdistance\u001b[0m \u001b[0;34m+=\u001b[0m \u001b[0mmatrix\u001b[0m\u001b[0;34m[\u001b[0m\u001b[0msolution\u001b[0m\u001b[0;34m[\u001b[0m\u001b[0mi\u001b[0m\u001b[0;34m]\u001b[0m\u001b[0;34m]\u001b[0m\u001b[0;34m[\u001b[0m\u001b[0msolution\u001b[0m\u001b[0;34m[\u001b[0m\u001b[0mi\u001b[0m \u001b[0;34m-\u001b[0m \u001b[0;36m1\u001b[0m\u001b[0;34m]\u001b[0m\u001b[0;34m]\u001b[0m\u001b[0;34m\u001b[0m\u001b[0;34m\u001b[0m\u001b[0m\n\u001b[0m\u001b[1;32m     60\u001b[0m     \u001b[0;32mreturn\u001b[0m \u001b[0mdistance\u001b[0m\u001b[0;34m\u001b[0m\u001b[0;34m\u001b[0m\u001b[0m\n\u001b[1;32m     61\u001b[0m \u001b[0;34m\u001b[0m\u001b[0m\n",
      "\u001b[0;31mKeyboardInterrupt\u001b[0m: "
     ]
    }
   ],
   "source": [
    "# parameters; dataset, initial point, tolerance and number of restart\n",
    "\n",
    "best_distance, best_path, exec_time = hc.best_solution(tsp_cities, 0 , 1e-6, 100)\n"
   ]
  },
  {
   "cell_type": "code",
   "execution_count": 62,
   "id": "25e893ba",
   "metadata": {},
   "outputs": [
    {
     "name": "stdout",
     "output_type": "stream",
     "text": [
      "16310.936025236724\n",
      "[0, 12, 39, 48, 45, 44, 49, 47, 41, 38, 31, 32, 21, 8, 10, 36, 43, 46, 29, 11, 13, 24, 35, 33, 34, 40, 42, 37, 26, 5, 3, 4, 2, 7, 9, 17, 18, 22, 19, 20, 23, 16, 14, 15, 28, 30, 27, 25, 6, 1]\n",
      "0.9718306064605713\n"
     ]
    }
   ],
   "source": [
    "print(best_distance)\n",
    "print(best_path)\n",
    "print(exec_time)"
   ]
  },
  {
   "cell_type": "raw",
   "id": "4daaf9ba",
   "metadata": {},
   "source": []
  },
  {
   "cell_type": "code",
   "execution_count": null,
   "id": "942fe40c",
   "metadata": {},
   "outputs": [],
   "source": []
  },
  {
   "cell_type": "code",
   "execution_count": 64,
   "id": "c43ed8af",
   "metadata": {},
   "outputs": [],
   "source": []
  },
  {
   "cell_type": "code",
   "execution_count": null,
   "id": "2297f983",
   "metadata": {},
   "outputs": [],
   "source": [
    "\n",
    "# Create the routing index manager.\n",
    "manager = pywrapcp.RoutingIndexManager(len(tsp_cities), 1, 0)\n",
    "\n",
    "# Create the routing index manager.\n",
    "routing = pywrapcp.RoutingModel(manager)\n",
    "\n",
    "# Create Routing Model.\n",
    "distance_matrix = compute_euclidean_distance_matrix(tsp_cities)\n",
    "\n",
    "transit_callback_index = routing.RegisterTransitCallback(distance_callback)\n",
    "\n",
    "# Define cost of each arc.\n",
    "routing.SetArcCostEvaluatorOfAllVehicles(transit_callback_index)\n",
    "\n",
    "# Setting first solution heuristic.\n",
    "search_parameters = pywrapcp.DefaultRoutingSearchParameters()\n",
    "search_parameters.first_solution_strategy = (routing_enums_pb2.FirstSolutionStrategy.PATH_CHEAPEST_ARC)\n",
    "\n",
    "# Solve the problem.\n",
    "solution = routing.SolveWithParameters(search_parameters)\n",
    "\n",
    "# Print solution on console.\n",
    "if solution:\n",
    "    print_solution(manager, routing, solution)\n"
   ]
  },
  {
   "cell_type": "code",
   "execution_count": null,
   "id": "96cbe536",
   "metadata": {},
   "outputs": [],
   "source": [
    "    "
   ]
  },
  {
   "cell_type": "code",
   "execution_count": null,
   "id": "4df6a453",
   "metadata": {
    "scrolled": true
   },
   "outputs": [],
   "source": [
    "compute_euclidean_distance_matrix(tsp_cities)"
   ]
  },
  {
   "cell_type": "code",
   "execution_count": null,
   "id": "5dfb22ff",
   "metadata": {},
   "outputs": [],
   "source": [
    "opt.distance_matrix(tsp_cities)"
   ]
  },
  {
   "cell_type": "code",
   "execution_count": null,
   "id": "6b966e5a",
   "metadata": {},
   "outputs": [],
   "source": []
  },
  {
   "cell_type": "code",
   "execution_count": null,
   "id": "0424e101",
   "metadata": {},
   "outputs": [],
   "source": []
  }
 ],
 "metadata": {
  "kernelspec": {
   "display_name": "Python 3",
   "language": "python",
   "name": "python3"
  },
  "language_info": {
   "codemirror_mode": {
    "name": "ipython",
    "version": 3
   },
   "file_extension": ".py",
   "mimetype": "text/x-python",
   "name": "python",
   "nbconvert_exporter": "python",
   "pygments_lexer": "ipython3",
   "version": "3.8.5"
  }
 },
 "nbformat": 4,
 "nbformat_minor": 5
}
