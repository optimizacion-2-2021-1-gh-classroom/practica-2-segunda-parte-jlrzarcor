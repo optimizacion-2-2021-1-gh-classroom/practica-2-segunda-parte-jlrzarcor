{
 "cells": [
  {
   "cell_type": "markdown",
   "id": "e8c9e7bb",
   "metadata": {},
   "source": [
    "# Maestría en Ciencia de Datos, ITAM\n",
    "\n",
    "**Curso de Optimización 2 2021-1,\"Optimización Avanzada\"\n",
    "Prof. Erick Palacios Moreno**\n",
    "\n",
    ">*Equipo 5:  \n",
    "MIGUEL LOPEZ  \n",
    "CARLOS LOPEZ  \n",
    "JOSÉ ZARATE  \n",
    "\n",
    "# PERFILAMIENTO DE CÓDIGO.\n",
    "\n",
    "   * **Nota:** el desarrollo de este notebook está basado en la secuencia de perfilamiento utilizada por el Profesor Erick Palacios Moreno en sus notas de clase (ver referencias en README).\n",
    "\n",
    "-----\n",
    "\n",
    "## RESOLVER EL PROBLEMA DE TRAVELING SALESMAN PROBLEM (A.K.A. TSP) PARA DISTINTAS CIUDADES UTILIZANDO EL MÉTODO DE HILL CLIMBING\n",
    "\n",
    "* Distancia Euclideana.\n",
    "> Dataset: National Traveling Salesman Problems, CANADA\n",
    "\n",
    "Para ello, realizaremos una ejecución para un subgrupo del dataset con las primeras 17 ciudades con el objetivo de realizar una _test_ estandar en tiempo razonable.\n",
    "\n",
    "______\n",
    "\n",
    "**MODIFICACIONES DERIVADAS DE LA ETAPA DE EXPERIMENTACIÓN:**\n",
    "\n",
    "* Se integró el random_restart con un _for loop_ (default = 100), el cual repite el proceso de obtener la mejor ruta a partir de una de una _initial random solution_ con el objetivo de ampliar la búsqueda ya que detectamos como problemática que _Hill CLimbing_ se quedaba estacionado en un mínimo local. Esto se logró utilizando como paquetería de comparación OR Tools de Google (ver README para referencias).\n",
    "\n",
    "-----\n",
    "\n",
    "#### DISEÑO DEL _TESTING_  \n",
    "Debido a la naturaleza de nuestro método (metaheurístico), encontrar una solución ópitma global puede resultar imposible conforme se incrementan el número de nodos-ciudad a evaluar para determinar la ruta más corta en el _TSP_. Por este motivo, debemos precisar que nuestro método obtiene la ruta óptima global con un subconjunto de hasta 17 ciudades y aproximaciones menores a un 10% en comparación con la paquetería de OR-tools que utilizaremos para nuestros _test_.\n",
    "\n",
    "Por lo tanto, para poder realizar nuestro _testing_ hemos decidido utilizar como métrica lo siguiente:\n",
    "> 1 - la proporción de la distancia obtenida por nuestro método dividida por la distancia obtenida con el método de OR-tools de GOOGLE, de tal forma que un valor cercano a 0 nos indica que ambas rutas son aproximadamente iguales, con una tolerancia de 1e-1.\n",
    "\n",
    "**Nota:** es importante indicar que la intención del test no es evaluar que se encuentre la misma ruta, si no que la mejor ruta encontrada sea relativamente cercana entre nuestra implementación y la paquetería de comparación.\n",
    "\n",
    "-----\n",
    "\n",
    "## PERFILAMIENTO\n",
    "\n",
    "> **Descripción de la instancia**\n",
    "\n",
    "Hemos decidido utilizar una máquina AWS EC2 m5.2xlarge que es la de mayor capacidad disponible con el programa AWS EDUCATE. Sus características son:"
   ]
  },
  {
   "cell_type": "code",
   "execution_count": 1,
   "id": "9927d0a7",
   "metadata": {},
   "outputs": [
    {
     "name": "stdout",
     "output_type": "stream",
     "text": [
      "Architecture:                    x86_64\n",
      "CPU op-mode(s):                  32-bit, 64-bit\n",
      "Byte Order:                      Little Endian\n",
      "Address sizes:                   46 bits physical, 48 bits virtual\n",
      "CPU(s):                          8\n",
      "On-line CPU(s) list:             0-7\n",
      "Thread(s) per core:              2\n",
      "Core(s) per socket:              4\n",
      "Socket(s):                       1\n",
      "NUMA node(s):                    1\n",
      "Vendor ID:                       GenuineIntel\n",
      "CPU family:                      6\n",
      "Model:                           85\n",
      "Model name:                      Intel(R) Xeon(R) Platinum 8175M CPU @ 2.50GHz\n",
      "Stepping:                        4\n",
      "CPU MHz:                         3120.058\n",
      "BogoMIPS:                        5000.00\n",
      "Hypervisor vendor:               KVM\n",
      "Virtualization type:             full\n",
      "L1d cache:                       128 KiB\n",
      "L1i cache:                       128 KiB\n",
      "L2 cache:                        4 MiB\n",
      "L3 cache:                        33 MiB\n",
      "NUMA node0 CPU(s):               0-7\n",
      "Vulnerability Itlb multihit:     KVM: Vulnerable\n",
      "Vulnerability L1tf:              Mitigation; PTE Inversion\n",
      "Vulnerability Mds:               Vulnerable: Clear CPU buffers attempted, no microcode; SMT Host state unknown\n",
      "Vulnerability Meltdown:          Mitigation; PTI\n",
      "Vulnerability Spec store bypass: Vulnerable\n",
      "Vulnerability Spectre v1:        Mitigation; usercopy/swapgs barriers and __user pointer sanitization\n",
      "Vulnerability Spectre v2:        Mitigation; Full generic retpoline, STIBP disabled, RSB filling\n",
      "Vulnerability Srbds:             Not affected\n",
      "Vulnerability Tsx async abort:   Vulnerable: Clear CPU buffers attempted, no microcode; SMT Host state unknown\n",
      "Flags:                           fpu vme de pse tsc msr pae mce cx8 apic sep mtrr pge mca cmov pat pse36 clflush mmx fxsr sse sse2 ss ht syscall nx pdpe1gb rdtscp lm constant_tsc rep_good nopl xtopology nonstop_tsc cpuid aperfmperf tsc_known_freq pni pclmulqdq ssse3 fma cx16 pcid sse4_1 sse4_2 x2apic movbe popcnt tsc_deadline_timer aes xsave avx f16c rdrand hypervisor lahf_lm abm 3dnowprefetch invpcid_single pti fsgsbase tsc_adjust bmi1 hle avx2 smep bmi2 erms invpcid rtm mpx avx512f avx512dq rdseed adx smap clflushopt clwb avx512cd avx512bw avx512vl xsaveopt xsavec xgetbv1 xsaves ida arat pku ospke\n"
     ]
    }
   ],
   "source": [
    "%%bash\n",
    "lscpu"
   ]
  },
  {
   "cell_type": "code",
   "execution_count": 2,
   "id": "56f15373",
   "metadata": {},
   "outputs": [
    {
     "name": "stdout",
     "output_type": "stream",
     "text": [
      "  *-firmware\n",
      "       description: BIOS\n",
      "       vendor: Amazon EC2\n",
      "       physical id: 0\n",
      "       version: 1.0\n",
      "       date: 10/16/2017\n",
      "       size: 64KiB\n",
      "       capacity: 64KiB\n",
      "       capabilities: pci edd acpi virtualmachine\n",
      "  *-memory\n",
      "       description: System memory\n",
      "       physical id: 1\n",
      "       size: 31GiB\n"
     ]
    }
   ],
   "source": [
    "%%bash\n",
    "sudo lshw -C memory"
   ]
  },
  {
   "cell_type": "markdown",
   "id": "2c479efb",
   "metadata": {},
   "source": [
    "Como podemos observar, tenemos disponibles 8 cores 30 gigas de memoria.\n",
    "\n",
    "Ahora mostraremos las características del kernel utilizado."
   ]
  },
  {
   "cell_type": "code",
   "execution_count": 3,
   "id": "a14b0c37",
   "metadata": {},
   "outputs": [
    {
     "name": "stdout",
     "output_type": "stream",
     "text": [
      "Linux ip-10-0-0-123 5.4.0-1047-aws #49-Ubuntu SMP Wed Apr 28 22:47:04 UTC 2021 x86_64 x86_64 x86_64 GNU/Linux\n"
     ]
    }
   ],
   "source": [
    "%%bash\n",
    "uname -ar #r for kernel, a for all"
   ]
  },
  {
   "cell_type": "markdown",
   "id": "5f2fa8bd",
   "metadata": {},
   "source": [
    "* **Nota:** Como bien sabemos, no es una buena práctica realizar el análisis de perfilamiento de código de nuestros métodos o paquetes desarrollados utilizando _Jupyter notebooks_ debido a que se encapsulan procesos propios del _Jupyter_ y no aisla específicamente los procesos ejecutados del código perfilado. La sugerencia es realizarlo en un intérprete (nuestro caso de _Python_). Por temas académicos, en esta ocasión se desarrollará en el notebook.\n",
    "\n",
    "----\n",
    "\n",
    "> **Preliminares**\n",
    "\n",
    "En primer término evaluaremos el tiempo de ejecución que le toma a nuestro código desarrollado en práctica 2.1 con las reimplementaciones realizadas previamente.\n",
    "\n",
    "Importaremos nuestro paquete alojado en [Dockerhub](https://hub.docker.com) en la imágen lobolc/Opt_HC_CG:0.1. Para ello utilizaremos el repositorio de desarollo de GitHub de nuestra practica anterior.\n",
    "\n",
    "Packages and libraries required:"
   ]
  },
  {
   "cell_type": "code",
   "execution_count": 4,
   "id": "5f19b88d",
   "metadata": {},
   "outputs": [],
   "source": [
    "import math\n",
    "import time\n",
    "import os\n",
    "import numpy as np\n",
    "import pandas as pd"
   ]
  },
  {
   "cell_type": "markdown",
   "id": "26676283",
   "metadata": {},
   "source": [
    "Realizar _Import_ de nuestro paquete con el método implementado\n",
    "  * **Nota:** en este caso utilizaremos las funciones integradas en nuestro módulo hill_final.py que contiene la reimplementación que fue necesario realizar sobre nuestro método para corregir un Bug (@Mayo 12, 2021)."
   ]
  },
  {
   "cell_type": "code",
   "execution_count": 5,
   "id": "460b70f9",
   "metadata": {},
   "outputs": [],
   "source": [
    "pth = os.getcwd()\n",
    "os.chdir(\"../\")\n",
    "import notebooks.hill_final as hc\n",
    "os.chdir(pth)"
   ]
  },
  {
   "cell_type": "markdown",
   "id": "ccd92f36",
   "metadata": {},
   "source": [
    "_Test_ packages requirements"
   ]
  },
  {
   "cell_type": "code",
   "execution_count": 6,
   "id": "9133a84e",
   "metadata": {},
   "outputs": [],
   "source": [
    "from pytest import approx\n",
    "import google_or_tools_tsp as tsp"
   ]
  },
  {
   "cell_type": "markdown",
   "id": "16bb27b0",
   "metadata": {},
   "source": [
    "Extraeremos y aplicaremos algunas transformaciones a nuestro dataset:"
   ]
  },
  {
   "cell_type": "code",
   "execution_count": 7,
   "id": "6a85c415",
   "metadata": {},
   "outputs": [],
   "source": [
    "raw_data = pd.read_csv(\"../datasets/ca4663.tsp\", sep = \" \", names = ['index','x','y'])"
   ]
  },
  {
   "cell_type": "markdown",
   "id": "67387d1c",
   "metadata": {},
   "source": [
    "Para efectos de esta práctica, analizaremos un ejemplo didáctico práctico con 20 ciudades para obtener, en un tiempo razonable para la tolerancia y _number of restarts_, una aproximación consistente tanto con nuestro método con el paquete de OR-tools"
   ]
  },
  {
   "cell_type": "code",
   "execution_count": 8,
   "id": "e3df38a7",
   "metadata": {},
   "outputs": [],
   "source": [
    "raw_data1 = raw_data.drop(['index'], axis = 1)\n",
    "raw_data2 = raw_data1.dropna()\n",
    "tsp_cities = raw_data2.iloc[0:17,].to_numpy()"
   ]
  },
  {
   "cell_type": "markdown",
   "id": "b29f8aaa",
   "metadata": {},
   "source": [
    "En nuestra función _opt.best_solution()_ desarrollamos el método de _Hill Climbing_ para la determinación de la ruta óptima y la distancia menor al resolver el problema de _Traveling Salesman Problem_ (TSP). También se incluyo la función time del paquete time time que se utiliza en el perfilamiento. Está constituida por cuatro subfunciones a las que se llama durante la ejecución:\n",
    "\n",
    "* distance_matrix(coordinate): calcula la matriz de distancias (distancia euclideana).  \n",
    "* random_solution(matrix, initial_point): constuye una ruta aleatoria con los nodos-ciudad  \n",
    "* calculate_distance(matrix, solution): calcula la distancia entre nodos-ciudad  \n",
    "* neighbors(matrix, solution): construye todas las posibles rutas del \"vecindario\" en función de la cercanía de los nodos-ciudad de la _random solution_ propuesta y selecciona la mejor ruta (menor distancia).\n",
    "* best_solution(coordinate, initial_point = 0, tolerance = 1e-7): es la función principal con la que analizamos un subconjunto del espacio de soluciones y selecciona la mejor ruta posible para el número de subrutinas especificado (número de veces que se reinicia la búsqueda de la mejor ruta a partir de una nueva _random solution_) y   \n",
    "\n",
    "\n"
   ]
  },
  {
   "cell_type": "markdown",
   "id": "588ebc27",
   "metadata": {},
   "source": [
    "----\n",
    "\n",
    "> **Medición de tiempo, Módulo: time**\n",
    "\n",
    "\n",
    "======= Medición de tiempo ======="
   ]
  },
  {
   "cell_type": "code",
   "execution_count": 9,
   "id": "30678a71",
   "metadata": {},
   "outputs": [
    {
     "name": "stdout",
     "output_type": "stream",
     "text": [
      "La implementación de nuestro método indica que la mejor ruta ecncontrada es:\n",
      " [0, 3, 2, 4, 7, 16, 14, 9, 10, 8, 15, 11, 13, 12, 6, 5, 1, 0] \n",
      " con una distancia óptima de:\n",
      " 3284.2634919757206\n",
      "\n",
      "Tiempo de ejecución: 2.6138317584991455 segundos\n"
     ]
    }
   ],
   "source": [
    "start_time = time.time()\n",
    "\n",
    "# hc.best_solution(order of parameters: dataset, initial point, tolerance and number of restart)\n",
    "hc_best_dist, hc_best_path, hc_exec_time = hc.best_solution(tsp_cities, 0 , 1e-9, 300)\n",
    "\n",
    "end_time = time.time()\n",
    "secs = end_time-start_time\n",
    "\n",
    "print(\"La implementación de nuestro método indica que la mejor ruta ecncontrada es:\\n\", hc_best_path, \"\\n con una distancia óptima de:\\n\", hc_best_dist)\n",
    "print(\"\\nTiempo de ejecución:\",secs,\"segundos\" )"
   ]
  },
  {
   "cell_type": "markdown",
   "id": "2c0c965e",
   "metadata": {},
   "source": [
    "======= Calcular Objetivo (Google OR-tools) ======="
   ]
  },
  {
   "cell_type": "code",
   "execution_count": 10,
   "id": "9b912425",
   "metadata": {},
   "outputs": [
    {
     "name": "stdout",
     "output_type": "stream",
     "text": [
      "Objective: 3316\n",
      "Route:\n",
      " 0 -> 3 -> 8 -> 10 -> 4 -> 2 -> 9 -> 7 -> 14 -> 16 -> 15 -> 11 -> 13 -> 12 -> 6 -> 5 -> 1 -> 0\n",
      "\n"
     ]
    }
   ],
   "source": [
    "tsp_sol = tsp.main(tsp_cities)\n",
    "\n",
    "obj = 1 - hc_best_dist/tsp_sol"
   ]
  },
  {
   "cell_type": "markdown",
   "id": "35cb18a9",
   "metadata": {},
   "source": [
    "======= Validar la solución ======="
   ]
  },
  {
   "cell_type": "code",
   "execution_count": 27,
   "id": "59ea466d",
   "metadata": {},
   "outputs": [
    {
     "name": "stdout",
     "output_type": "stream",
     "text": [
      "True\n"
     ]
    }
   ],
   "source": [
    "print(obj == approx(0, abs=1e-1))"
   ]
  },
  {
   "cell_type": "markdown",
   "id": "29b868b5",
   "metadata": {},
   "source": [
    "> **Medición de tiempo, Comando de _magic_: %time**"
   ]
  },
  {
   "cell_type": "code",
   "execution_count": 41,
   "id": "241307aa",
   "metadata": {
    "scrolled": true
   },
   "outputs": [
    {
     "name": "stdout",
     "output_type": "stream",
     "text": [
      "CPU times: user 2.55 s, sys: 19 µs, total: 2.55 s\n",
      "Wall time: 2.54 s\n"
     ]
    },
    {
     "data": {
      "text/plain": [
       "(3339.391869957482,\n",
       " [0, 3, 4, 2, 7, 16, 14, 9, 10, 8, 15, 11, 13, 12, 6, 1, 5, 0],\n",
       " 2.5445618629455566)"
      ]
     },
     "execution_count": 41,
     "metadata": {},
     "output_type": "execute_result"
    }
   ],
   "source": [
    "%time hc.best_solution(tsp_cities, 0 , 1e-9, 300)"
   ]
  },
  {
   "cell_type": "markdown",
   "id": "e5ac98de",
   "metadata": {},
   "source": [
    "Con lo anterior, identificamos lo siguiente:\n",
    "   * 2.58 segundos del proceso fueron para funciones no relacionadas con el _kernel_ del sistema (procesos de alojamiento, lectura y escritura de variables en memoria, I/O de disco, networking, etc).\n",
    "   * 0 nanosegundos se utilizaron para funciones a nivel _kernel_ del sistema.\n",
    "\n",
    "También observamos que el tiempo de ejecución (_wall clock_ o _elapsed time_) desde el inicio de los statements hasta su finalización es exactamente los 2.58 segundos que coinciden con _user_ en este caso.\n",
    "\n",
    "Al no existir diferencia notable entre _total_ y _wall time_, se observa que el tiempo de ejecución no se ocupó en tareas que no involucran a sys o a user.\n",
    "\n",
    "Se observó que al volver a ejecutar el proceso anterior, existe variación en las mediciones, por lo que se dificultó realizar las observaciones anteriores. Con el objetivo de disminuir tal variación, utilizarmos la funcionalidad de Timeit (realizar mediciones un número repetido de veces)."
   ]
  },
  {
   "cell_type": "markdown",
   "id": "f3b57d97",
   "metadata": {},
   "source": [
    "> **Medición de tiempo, Comando de _Timeit_: %timeit**\n",
    "\n",
    "Ejecutaremos este comando para evaluar nuestro método, considerando promediar los tiempos de n=7 ejecuciones calculando su desviación estándar. Este proceso se ejecutará r=11 veces para reportar el mejor resultado.    "
   ]
  },
  {
   "cell_type": "code",
   "execution_count": 42,
   "id": "6f35e152",
   "metadata": {},
   "outputs": [
    {
     "name": "stdout",
     "output_type": "stream",
     "text": [
      "2.6 s ± 12.2 ms per loop (mean ± std. dev. of 11 runs, 7 loops each)\n"
     ]
    }
   ],
   "source": [
    "%timeit -n 7 -r 11 hc.best_solution(tsp_cities, 0 , 1e-9, 300)"
   ]
  },
  {
   "cell_type": "code",
   "execution_count": 102,
   "id": "067c6245",
   "metadata": {},
   "outputs": [
    {
     "name": "stdout",
     "output_type": "stream",
     "text": [
      "8.73 s ± 20.6 ms per loop (mean ± std. dev. of 11 runs, 7 loops each)\n"
     ]
    }
   ],
   "source": [
    "%timeit -n 7 -r 11 hc.best_solution(tsp_cities, 0 , 1e-9, 1000)"
   ]
  },
  {
   "cell_type": "markdown",
   "id": "f897046f",
   "metadata": {},
   "source": [
    "Concluimos que el tiempo promedio de ejecución de nuestro método es de 2.6 segundos con una desviación estándar de 12.2 milisegundos, que es comparable con los 2.54segundos de _%time_ para 300 restarts y de 8.73 segundos para 1000 restarts. Observamos un incremento dramático en el tiempo de ejecución, por lo que esto es el principal enfoque de nuestro perfilamiento.\n",
    "\n",
    "> **Medición de tiempo, _cProfile_**"
   ]
  },
  {
   "cell_type": "code",
   "execution_count": 43,
   "id": "69833b21",
   "metadata": {},
   "outputs": [],
   "source": [
    "import cProfile"
   ]
  },
  {
   "cell_type": "code",
   "execution_count": 44,
   "id": "14866b62",
   "metadata": {},
   "outputs": [
    {
     "name": "stdout",
     "output_type": "stream",
     "text": [
      "         1700243 function calls (1699954 primitive calls) in 2.850 seconds\n",
      "\n",
      "   Ordered by: cumulative time\n",
      "\n",
      "   ncalls  tottime  percall  cumtime  percall filename:lineno(function)\n",
      "        2    0.000    0.000    2.850    1.425 interactiveshell.py:3400(run_code)\n",
      "        2    0.000    0.000    2.850    1.425 {built-in method builtins.exec}\n",
      "        1    0.000    0.000    2.850    2.850 <ipython-input-44-2aa36a8b218e>:3(<module>)\n",
      "        1    0.015    0.015    2.850    2.850 hill_final.py:94(best_solution)\n",
      "     3752    0.217    0.000    2.814    0.001 hill_final.py:64(neighbors)\n",
      "   398013    2.508    0.000    2.532    0.000 hill_final.py:48(calculate_distance)\n",
      "   393960    0.035    0.000    0.035    0.000 {method 'copy' of 'list' objects}\n",
      "   467235    0.030    0.000    0.030    0.000 {built-in method builtins.len}\n",
      "   399366    0.028    0.000    0.028    0.000 {method 'append' of 'list' objects}\n",
      "      301    0.004    0.000    0.014    0.000 hill_final.py:25(random_solution)\n",
      "     4816    0.001    0.000    0.008    0.000 random.py:244(randint)\n",
      "     4816    0.003    0.000    0.006    0.000 random.py:200(randrange)\n",
      "        1    0.001    0.001    0.004    0.004 hill_final.py:6(distance_matrix)\n",
      "     4816    0.003    0.000    0.004    0.000 random.py:250(_randbelow_with_getrandbits)\n",
      "      289    0.000    0.000    0.003    0.000 <__array_function__ internals>:2(norm)\n",
      "  579/290    0.001    0.000    0.003    0.000 {built-in method numpy.core._multiarray_umath.implement_array_function}\n",
      "      289    0.001    0.000    0.003    0.000 linalg.py:2362(norm)\n",
      "      289    0.000    0.000    0.002    0.000 <__array_function__ internals>:2(dot)\n",
      "     5117    0.001    0.000    0.001    0.000 {method 'remove' of 'list' objects}\n",
      "     7543    0.001    0.000    0.001    0.000 {method 'getrandbits' of '_random.Random' objects}\n",
      "     4816    0.000    0.000    0.000    0.000 {method 'bit_length' of 'int' objects}\n",
      "     1875    0.000    0.000    0.000    0.000 {built-in method builtins.abs}\n",
      "      290    0.000    0.000    0.000    0.000 _asarray.py:23(asarray)\n",
      "      289    0.000    0.000    0.000    0.000 {method 'ravel' of 'numpy.ndarray' objects}\n",
      "      290    0.000    0.000    0.000    0.000 {built-in method numpy.array}\n",
      "      289    0.000    0.000    0.000    0.000 linalg.py:112(isComplexType)\n",
      "      578    0.000    0.000    0.000    0.000 {built-in method builtins.issubclass}\n",
      "        2    0.000    0.000    0.000    0.000 codeop.py:140(__call__)\n",
      "        2    0.000    0.000    0.000    0.000 {built-in method builtins.compile}\n",
      "      289    0.000    0.000    0.000    0.000 linalg.py:2358(_norm_dispatcher)\n",
      "        1    0.000    0.000    0.000    0.000 <__array_function__ internals>:2(reshape)\n",
      "      289    0.000    0.000    0.000    0.000 multiarray.py:716(dot)\n",
      "        1    0.000    0.000    0.000    0.000 fromnumeric.py:199(reshape)\n",
      "        1    0.000    0.000    0.000    0.000 fromnumeric.py:52(_wrapfunc)\n",
      "        1    0.000    0.000    0.000    0.000 fromnumeric.py:39(_wrapit)\n",
      "        2    0.000    0.000    0.000    0.000 contextlib.py:238(helper)\n",
      "        2    0.000    0.000    0.000    0.000 contextlib.py:108(__enter__)\n",
      "        2    0.000    0.000    0.000    0.000 contextlib.py:82(__init__)\n",
      "        4    0.000    0.000    0.000    0.000 {built-in method builtins.next}\n",
      "        2    0.000    0.000    0.000    0.000 contextlib.py:117(__exit__)\n",
      "        2    0.000    0.000    0.000    0.000 hooks.py:103(__call__)\n",
      "        1    0.000    0.000    0.000    0.000 <ipython-input-44-2aa36a8b218e>:4(<module>)\n",
      "        4    0.000    0.000    0.000    0.000 compilerop.py:166(extra_flags)\n",
      "        2    0.000    0.000    0.000    0.000 traitlets.py:564(__get__)\n",
      "        6    0.000    0.000    0.000    0.000 {built-in method builtins.getattr}\n",
      "        1    0.000    0.000    0.000    0.000 {method 'reshape' of 'numpy.ndarray' objects}\n",
      "        2    0.000    0.000    0.000    0.000 interactiveshell.py:3338(compare)\n",
      "        2    0.000    0.000    0.000    0.000 traitlets.py:533(get)\n",
      "        2    0.000    0.000    0.000    0.000 ipstruct.py:125(__getattr__)\n",
      "        2    0.000    0.000    0.000    0.000 interactiveshell.py:1278(user_global_ns)\n",
      "        2    0.000    0.000    0.000    0.000 {built-in method time.time}\n",
      "        2    0.000    0.000    0.000    0.000 hooks.py:168(pre_run_code_hook)\n",
      "        1    0.000    0.000    0.000    0.000 {method 'disable' of '_lsprof.Profiler' objects}\n",
      "        1    0.000    0.000    0.000    0.000 fromnumeric.py:194(_reshape_dispatcher)\n",
      "\n",
      "\n"
     ]
    }
   ],
   "source": [
    "cprof = cProfile.Profile()\n",
    "cprof.enable()\n",
    "tsp_hc = hc.best_solution(tsp_cities, 0 , 1e-9, 300)\n",
    "cprof.disable()\n",
    "cprof.print_stats(sort='cumtime') # buscamo analizar donde se concentre el mayor tiempo acumulado de nuestra func."
   ]
  },
  {
   "cell_type": "markdown",
   "id": "587b3039",
   "metadata": {},
   "source": [
    "Notemos que al haber realizado el perfilamiento con cProfile, nuestro tiempo de ejecución promedio de 2.6 segundos se incremento a 2.85 segundos, lo cual es normal al utilizar esta funcionalidad.  \n",
    "En este caso, nos enfocaremos en analizar los procesos en los que se realiza una mayor inversión de tiempo:\n",
    "* Nuestra función calculate_distance fue llamada 398,013 con un tiempo de _tottime_ 2.508 segundos (correspondiente a la línea 48 de nuestro módulo).\n",
    "* Se tienen otros tres procesos independientes (tottime=cumtime) que implican la mayor cantidad de tiempo de ejecución: method 'copy' of 'list' objects que tiene 393,960 llamadas con 0.035 segundos; built-in method builtins.len con 467,235 llamadas y 0.030 segundos; method 'append' of 'list' objects con 399,366 llamads y 0.028 seugundos.\n",
    "* Nuestra función (neighbors, linea 64 de nuestro módulo) fue invocada 3,752 veces con un tiempo de ejecución _tottime_ .217 segundos. Es importante observar que en este caso tenemos un _cumtime_ de 2.814 segundos, que incluye los 2.6 segundos de las funciones anteriores y algunas otras de menor tiempo de procesamiento.\n",
    "\n",
    "Con el objetivo de poder realizar un análisis simplificado de la información anterior, utilizaremos _pstats_ de la clase _Stats_ para un resumen más accesible. En este caso, buscaremos observar las llamadas a method y built.in methods:"
   ]
  },
  {
   "cell_type": "code",
   "execution_count": 50,
   "id": "09e34ff9",
   "metadata": {},
   "outputs": [],
   "source": [
    "cprof.dump_stats(\"tsp_hc_stats\")\n",
    "import pstats\n",
    "p_hc_stats = pstats.Stats(\"tsp_hc_stats\")"
   ]
  },
  {
   "cell_type": "code",
   "execution_count": 51,
   "id": "e630dcaa",
   "metadata": {},
   "outputs": [
    {
     "name": "stdout",
     "output_type": "stream",
     "text": [
      "Fri May 14 04:25:26 2021    tsp_hc_stats\n",
      "\n",
      "         1700243 function calls (1699954 primitive calls) in 2.850 seconds\n",
      "\n",
      "   Ordered by: cumulative time\n",
      "   List reduced from 54 to 18 due to restriction <'method|built-in'>\n",
      "\n",
      "   ncalls  tottime  percall  cumtime  percall filename:lineno(function)\n",
      "        2    0.000    0.000    2.850    1.425 {built-in method builtins.exec}\n",
      "   393960    0.035    0.000    0.035    0.000 {method 'copy' of 'list' objects}\n",
      "   467235    0.030    0.000    0.030    0.000 {built-in method builtins.len}\n",
      "   399366    0.028    0.000    0.028    0.000 {method 'append' of 'list' objects}\n",
      "  579/290    0.001    0.000    0.003    0.000 {built-in method numpy.core._multiarray_umath.implement_array_function}\n",
      "     5117    0.001    0.000    0.001    0.000 {method 'remove' of 'list' objects}\n",
      "     7543    0.001    0.000    0.001    0.000 {method 'getrandbits' of '_random.Random' objects}\n",
      "     4816    0.000    0.000    0.000    0.000 {method 'bit_length' of 'int' objects}\n",
      "     1875    0.000    0.000    0.000    0.000 {built-in method builtins.abs}\n",
      "      289    0.000    0.000    0.000    0.000 {method 'ravel' of 'numpy.ndarray' objects}\n",
      "      290    0.000    0.000    0.000    0.000 {built-in method numpy.array}\n",
      "      578    0.000    0.000    0.000    0.000 {built-in method builtins.issubclass}\n",
      "        2    0.000    0.000    0.000    0.000 {built-in method builtins.compile}\n",
      "        4    0.000    0.000    0.000    0.000 {built-in method builtins.next}\n",
      "        6    0.000    0.000    0.000    0.000 {built-in method builtins.getattr}\n",
      "        1    0.000    0.000    0.000    0.000 {method 'reshape' of 'numpy.ndarray' objects}\n",
      "        2    0.000    0.000    0.000    0.000 {built-in method time.time}\n",
      "        1    0.000    0.000    0.000    0.000 {method 'disable' of '_lsprof.Profiler' objects}\n",
      "\n",
      "\n",
      "<pstats.Stats object at 0x7f9a40f1f550>\n"
     ]
    }
   ],
   "source": [
    "print(p_hc_stats.sort_stats(\"cumulative\").print_stats(\"method|built-in\"))"
   ]
  },
  {
   "cell_type": "markdown",
   "id": "0b6a8bca",
   "metadata": {},
   "source": [
    "Mostraremos ahora cuántas llamadas a funciones _built-in_ se realizaron y cuáles funciones están realizando llamadas a otras.\n",
    "\n",
    "Esto es de suma importancia, pues nos permite visualizar las posibles dependencias y _bottlenecks_ que podrían existir en nuestro código."
   ]
  },
  {
   "cell_type": "code",
   "execution_count": 52,
   "id": "11fa500d",
   "metadata": {},
   "outputs": [
    {
     "name": "stdout",
     "output_type": "stream",
     "text": [
      "1699954\n"
     ]
    }
   ],
   "source": [
    "print(p_hc_stats.prim_calls)"
   ]
  },
  {
   "cell_type": "code",
   "execution_count": 53,
   "id": "a151a67b",
   "metadata": {},
   "outputs": [
    {
     "name": "stdout",
     "output_type": "stream",
     "text": [
      "   Ordered by: cumulative time\n",
      "\n",
      "Function                                                                 was called by...\n",
      "                                                                             ncalls  tottime  cumtime\n",
      "interactiveshell.py:3400(run_code)                                       <- \n",
      "{built-in method builtins.exec}                                          <-       2    0.000    2.850  interactiveshell.py:3400(run_code)\n",
      "<ipython-input-44-2aa36a8b218e>:3(<module>)                              <-       1    0.000    2.850  {built-in method builtins.exec}\n",
      "hill_final.py:94(best_solution)                                          <-       1    0.015    2.850  <ipython-input-44-2aa36a8b218e>:3(<module>)\n",
      "hill_final.py:64(neighbors)                                              <-    3752    0.217    2.814  hill_final.py:94(best_solution)\n",
      "hill_final.py:48(calculate_distance)                                     <-  397712    2.506    2.530  hill_final.py:64(neighbors)\n",
      "                                                                                301    0.002    0.002  hill_final.py:94(best_solution)\n",
      "{method 'copy' of 'list' objects}                                        <-  393960    0.035    0.035  hill_final.py:64(neighbors)\n",
      "{built-in method builtins.len}                                           <-      20    0.000    0.000  hill_final.py:6(distance_matrix)\n",
      "                                                                               5418    0.000    0.000  hill_final.py:25(random_solution)\n",
      "                                                                             398013    0.025    0.025  hill_final.py:48(calculate_distance)\n",
      "                                                                              63784    0.005    0.005  hill_final.py:64(neighbors)\n",
      "{method 'append' of 'list' objects}                                      <-     289    0.000    0.000  hill_final.py:6(distance_matrix)\n",
      "                                                                               5117    0.001    0.001  hill_final.py:25(random_solution)\n",
      "                                                                             393960    0.027    0.027  hill_final.py:64(neighbors)\n",
      "hill_final.py:25(random_solution)                                        <-     301    0.004    0.014  hill_final.py:94(best_solution)\n",
      "random.py:244(randint)                                                   <-    4816    0.001    0.008  hill_final.py:25(random_solution)\n",
      "random.py:200(randrange)                                                 <-    4816    0.003    0.006  random.py:244(randint)\n",
      "hill_final.py:6(distance_matrix)                                         <-       1    0.001    0.004  hill_final.py:94(best_solution)\n",
      "random.py:250(_randbelow_with_getrandbits)                               <-    4816    0.003    0.004  random.py:200(randrange)\n",
      "<__array_function__ internals>:2(norm)                                   <-     289    0.000    0.003  hill_final.py:6(distance_matrix)\n",
      "{built-in method numpy.core._multiarray_umath.implement_array_function}  <-     289    0.001    0.001  <__array_function__ internals>:2(dot)\n",
      "                                                                                289    0.000    0.003  <__array_function__ internals>:2(norm)\n",
      "                                                                                  1    0.000    0.000  <__array_function__ internals>:2(reshape)\n",
      "linalg.py:2362(norm)                                                     <-     289    0.001    0.003  {built-in method numpy.core._multiarray_umath.implement_array_function}\n",
      "<__array_function__ internals>:2(dot)                                    <-     289    0.000    0.002  linalg.py:2362(norm)\n",
      "{method 'remove' of 'list' objects}                                      <-    5117    0.001    0.001  hill_final.py:25(random_solution)\n",
      "{method 'getrandbits' of '_random.Random' objects}                       <-    7543    0.001    0.001  random.py:250(_randbelow_with_getrandbits)\n",
      "{method 'bit_length' of 'int' objects}                                   <-    4816    0.000    0.000  random.py:250(_randbelow_with_getrandbits)\n",
      "{built-in method builtins.abs}                                           <-    1875    0.000    0.000  hill_final.py:94(best_solution)\n",
      "_asarray.py:23(asarray)                                                  <-       1    0.000    0.000  fromnumeric.py:39(_wrapit)\n",
      "                                                                                289    0.000    0.000  linalg.py:2362(norm)\n",
      "{method 'ravel' of 'numpy.ndarray' objects}                              <-     289    0.000    0.000  linalg.py:2362(norm)\n",
      "{built-in method numpy.array}                                            <-     290    0.000    0.000  _asarray.py:23(asarray)\n",
      "linalg.py:112(isComplexType)                                             <-     289    0.000    0.000  linalg.py:2362(norm)\n",
      "{built-in method builtins.issubclass}                                    <-     289    0.000    0.000  linalg.py:112(isComplexType)\n",
      "                                                                                289    0.000    0.000  linalg.py:2362(norm)\n",
      "codeop.py:140(__call__)                                                  <- \n",
      "{built-in method builtins.compile}                                       <-       2    0.000    0.000  codeop.py:140(__call__)\n",
      "linalg.py:2358(_norm_dispatcher)                                         <-     289    0.000    0.000  <__array_function__ internals>:2(norm)\n",
      "<__array_function__ internals>:2(reshape)                                <-       1    0.000    0.000  hill_final.py:6(distance_matrix)\n",
      "multiarray.py:716(dot)                                                   <-     289    0.000    0.000  <__array_function__ internals>:2(dot)\n",
      "fromnumeric.py:199(reshape)                                              <-       1    0.000    0.000  {built-in method numpy.core._multiarray_umath.implement_array_function}\n",
      "fromnumeric.py:52(_wrapfunc)                                             <-       1    0.000    0.000  fromnumeric.py:199(reshape)\n",
      "fromnumeric.py:39(_wrapit)                                               <-       1    0.000    0.000  fromnumeric.py:52(_wrapfunc)\n",
      "contextlib.py:238(helper)                                                <- \n",
      "contextlib.py:108(__enter__)                                             <- \n",
      "contextlib.py:82(__init__)                                               <-       2    0.000    0.000  contextlib.py:238(helper)\n",
      "{built-in method builtins.next}                                          <-       2    0.000    0.000  contextlib.py:108(__enter__)\n",
      "                                                                                  2    0.000    0.000  contextlib.py:117(__exit__)\n",
      "contextlib.py:117(__exit__)                                              <- \n",
      "hooks.py:103(__call__)                                                   <-       2    0.000    0.000  interactiveshell.py:3400(run_code)\n",
      "<ipython-input-44-2aa36a8b218e>:4(<module>)                              <-       1    0.000    0.000  {built-in method builtins.exec}\n",
      "compilerop.py:166(extra_flags)                                           <-       4    0.000    0.000  {built-in method builtins.next}\n",
      "traitlets.py:564(__get__)                                                <- \n",
      "{built-in method builtins.getattr}                                       <-       2    0.000    0.000  contextlib.py:82(__init__)\n",
      "                                                                                  1    0.000    0.000  fromnumeric.py:39(_wrapit)\n",
      "                                                                                  1    0.000    0.000  fromnumeric.py:52(_wrapfunc)\n",
      "{method 'reshape' of 'numpy.ndarray' objects}                            <-       1    0.000    0.000  fromnumeric.py:39(_wrapit)\n",
      "interactiveshell.py:3338(compare)                                        <- \n",
      "traitlets.py:533(get)                                                    <-       2    0.000    0.000  traitlets.py:564(__get__)\n",
      "ipstruct.py:125(__getattr__)                                             <-       2    0.000    0.000  interactiveshell.py:3400(run_code)\n",
      "interactiveshell.py:1278(user_global_ns)                                 <-       2    0.000    0.000  interactiveshell.py:3400(run_code)\n",
      "{built-in method time.time}                                              <-       2    0.000    0.000  hill_final.py:94(best_solution)\n",
      "hooks.py:168(pre_run_code_hook)                                          <-       2    0.000    0.000  hooks.py:103(__call__)\n",
      "{method 'disable' of '_lsprof.Profiler' objects}                         <-       1    0.000    0.000  <ipython-input-44-2aa36a8b218e>:4(<module>)\n",
      "fromnumeric.py:194(_reshape_dispatcher)                                  <-       1    0.000    0.000  <__array_function__ internals>:2(reshape)\n",
      "\n",
      "\n"
     ]
    },
    {
     "data": {
      "text/plain": [
       "<pstats.Stats at 0x7f9a40f1f550>"
      ]
     },
     "execution_count": 53,
     "metadata": {},
     "output_type": "execute_result"
    }
   ],
   "source": [
    "p_hc_stats.strip_dirs().sort_stats(\"cumulative\").print_callers()"
   ]
  },
  {
   "cell_type": "markdown",
   "id": "459238cd",
   "metadata": {},
   "source": [
    "Observamos que existe una fuerte interacción entre calculate_distances y neighbors. Algo que es sumamente importante mencionar y revisar es que existen llamadas vacías particularmente de las funciones anteriores.\n",
    "\n",
    "> **Medición de tiempo, line_profiler**\n",
    "\n",
    "Una vez realizado el perfilamiento con cProfile, nos enfocaremos en analizar las funciones que tienen un mayor consumo de tiempo utilizando line_profiler:"
   ]
  },
  {
   "cell_type": "code",
   "execution_count": 55,
   "id": "1b11286d",
   "metadata": {},
   "outputs": [
    {
     "name": "stdout",
     "output_type": "stream",
     "text": [
      "(3319.127344323918, [0, 3, 8, 4, 2, 7, 16, 14, 9, 10, 15, 11, 13, 12, 6, 5, 1, 0], 5.007052659988403)\n"
     ]
    }
   ],
   "source": [
    "import line_profiler\n",
    "line_prof = line_profiler.LineProfiler()\n",
    "print(line_prof(hc.best_solution)(tsp_cities, 0 , 1e-9, 300))"
   ]
  },
  {
   "cell_type": "code",
   "execution_count": 56,
   "id": "ffdde723",
   "metadata": {},
   "outputs": [
    {
     "name": "stdout",
     "output_type": "stream",
     "text": [
      "Timer unit: 1e-06 s\n",
      "\n",
      "Total time: 5.0023 s\n",
      "File: /home/ubuntu/practica-2-segunda-parte-jlrzarcor/notebooks/hill_final.py\n",
      "Function: best_solution at line 94\n",
      "\n",
      "Line #      Hits         Time  Per Hit   % Time  Line Contents\n",
      "==============================================================\n",
      "    94                                           def best_solution(coordinate, initial_point = 0, tolerance = 1e-7, n_restarts = 100):\n",
      "    95                                               \"\"\"\n",
      "    96                                               finds an optimal solution for the TSP problem using hill climbing algorithm\n",
      "    97                                                   input:\n",
      "    98                                                       points[array]: coordinates of the places to be visited \n",
      "    99                                                       initial_point[integer]: number of the place to be visited first\n",
      "   100                                                       tolerance[float]: value that indicates the solution is not improving\n",
      "   101                                                   outputs:\n",
      "   102                                                       bst_distance[float]: distance of the best route \n",
      "   103                                                       best_sol[list]: order the places to be visted in the optimal solution\n",
      "   104                                                       time[float]: time that take the algorithm to obtain the solution    \n",
      "   105                                               \"\"\"\n",
      "   106         1          2.0      2.0      0.0      start_time = time.time()\n",
      "   107         1       6124.0   6124.0      0.1      matrix = distance_matrix(coordinate)\n",
      "   108                                               \n",
      "   109         1         82.0     82.0      0.0      current_solution = random_solution(matrix, initial_point)\n",
      "   110         1         17.0     17.0      0.0      current_path = calculate_distance(matrix, current_solution)\n",
      "   111         1       1362.0   1362.0      0.0      neighbor = neighbors(matrix,current_solution)[0]\n",
      "   112         1       1355.0   1355.0      0.0      best_neighbor, best_neighbor_path = neighbors(matrix, neighbor)\n",
      "   113         1          2.0      2.0      0.0      global_path = 2 * current_path\n",
      "   114                                               \n",
      "   115       301        146.0      0.5      0.0      for _ in range(n_restarts):\n",
      "   116       600        279.0      0.5      0.0          while best_neighbor_path < current_path:\n",
      "   117      1835       1513.0      0.8      0.0              while abs(best_neighbor_path - current_path) > tolerance:\n",
      "   118      1535        714.0      0.5      0.0                  current_solution = best_neighbor\n",
      "   119      1535        651.0      0.4      0.0                  current_path = best_neighbor_path\n",
      "   120      1535    2076947.0   1353.1     41.5                  neighbor = neighbors(matrix, current_solution)[0]\n",
      "   121      1535    2077226.0   1353.2     41.5                  best_neighbor, best_neighbor_path = neighbors(matrix, neighbor)\n",
      "   122                                                           \n",
      "   123       300        122.0      0.4      0.0          if current_path < global_path:\n",
      "   124         7          4.0      0.6      0.0              global_path = current_path\n",
      "   125         7          2.0      0.3      0.0              global_solution = current_solution\n",
      "   126                                           \n",
      "   127       300      19738.0     65.8      0.4          current_solution = random_solution(matrix, initial_point)\n",
      "   128       300       3600.0     12.0      0.1          current_path = calculate_distance(matrix, current_solution)\n",
      "   129       300     406307.0   1354.4      8.1          neighbor = neighbors(matrix,current_solution)[0]\n",
      "   130       300     406108.0   1353.7      8.1          best_neighbor, best_neighbor_path = neighbors(matrix, neighbor)\n",
      "   131                                                   \n",
      "   132         1          4.0      4.0      0.0      return global_path, global_solution, time.time() - start_time\n",
      "\n",
      "None\n"
     ]
    }
   ],
   "source": [
    "print(line_prof.print_stats())"
   ]
  },
  {
   "cell_type": "markdown",
   "id": "275afc7e",
   "metadata": {},
   "source": [
    "Nuestra línea de código que más veces se ejecutó es la correspondiente a nuestro segundo ciclo _while_, el cual determina la mejor ruta del vecindario para una _initial random solution_ con 1835 ejecuciones, lo cual concuerda con las 300 iteraciones de reinicio (Ciclo for) y los while anidados para determinar las mejores rutas de forma aleatoria."
   ]
  },
  {
   "cell_type": "markdown",
   "id": "43ade4c1",
   "metadata": {},
   "source": [
    "----\n",
    "\n",
    "> **Perfilamiento: medición de uso de memoria en Python**\n",
    "\n",
    "\n",
    "======= **memory_profiler** =======\n",
    "\n",
    "Analizaremos el uso máximo de memoria (en _MiB_):"
   ]
  },
  {
   "cell_type": "code",
   "execution_count": 60,
   "id": "6ef890e1",
   "metadata": {},
   "outputs": [],
   "source": [
    "from memory_profiler import memory_usage"
   ]
  },
  {
   "cell_type": "code",
   "execution_count": 62,
   "id": "4ae63889",
   "metadata": {},
   "outputs": [
    {
     "name": "stdout",
     "output_type": "stream",
     "text": [
      "110.62890625\n"
     ]
    }
   ],
   "source": [
    "m = (hc.best_solution,(tsp_cities, 0 , 1e-9, 300))\n",
    "print(memory_usage(m, max_usage=True))"
   ]
  },
  {
   "cell_type": "code",
   "execution_count": 64,
   "id": "46ff539f",
   "metadata": {},
   "outputs": [
    {
     "name": "stdout",
     "output_type": "stream",
     "text": [
      "start mem 110.75\n",
      "max mem 110.75\n",
      "used mem 0.0\n",
      "fun output (3269.2653147263823, [0, 1, 5, 6, 12, 13, 11, 15, 8, 10, 9, 14, 16, 7, 2, 4, 3, 0], 2.5897860527038574)\n"
     ]
    }
   ],
   "source": [
    "start_mem = memory_usage(max_usage=True)\n",
    "m_res = memory_usage(m, max_usage=True, retval=True)\n",
    "print('start mem', start_mem)\n",
    "print('max mem', m_res[0])\n",
    "print('used mem', m_res[0]-start_mem)\n",
    "print('fun output', m_res[1])"
   ]
  },
  {
   "cell_type": "code",
   "execution_count": 67,
   "id": "b1b1c04f",
   "metadata": {},
   "outputs": [
    {
     "name": "stdout",
     "output_type": "stream",
     "text": [
      "The memory_profiler extension is already loaded. To reload it, use:\n",
      "  %reload_ext memory_profiler\n"
     ]
    }
   ],
   "source": [
    "%load_ext memory_profiler"
   ]
  },
  {
   "cell_type": "markdown",
   "id": "fac457d8",
   "metadata": {},
   "source": [
    "Observemos el consumo de memoria RAM (previo a utilizar nuestra función):"
   ]
  },
  {
   "cell_type": "code",
   "execution_count": 76,
   "id": "a3709d36",
   "metadata": {},
   "outputs": [
    {
     "name": "stdout",
     "output_type": "stream",
     "text": [
      "peak memory: 111.77 MiB, increment: 0.00 MiB\n"
     ]
    }
   ],
   "source": [
    "%memit"
   ]
  },
  {
   "cell_type": "markdown",
   "id": "77364caf",
   "metadata": {},
   "source": [
    "y ahora observemos el consumo pico de memoria RAM que se incrementa con el uso de nuestra función:"
   ]
  },
  {
   "cell_type": "code",
   "execution_count": 71,
   "id": "2cc33083",
   "metadata": {},
   "outputs": [
    {
     "name": "stdout",
     "output_type": "stream",
     "text": [
      "peak memory: 185.49 MiB, increment: 74.06 MiB\n"
     ]
    }
   ],
   "source": [
    "%memit -c hc.best_solution(tsp_cities, 0 , 1e-9, 300)"
   ]
  },
  {
   "cell_type": "markdown",
   "id": "1b56a044",
   "metadata": {},
   "source": [
    "Ahora incrementaremos el número de restarts de 300 a 1000 para evaluar el impacto en memoria RAM:"
   ]
  },
  {
   "cell_type": "code",
   "execution_count": 101,
   "id": "c8839d75",
   "metadata": {},
   "outputs": [
    {
     "name": "stdout",
     "output_type": "stream",
     "text": [
      "peak memory: 186.12 MiB, increment: 74.34 MiB\n"
     ]
    }
   ],
   "source": [
    "%memit -c hc.best_solution(tsp_cities, 0 , 1e-9, 1000)"
   ]
  },
  {
   "cell_type": "markdown",
   "id": "75a58a39",
   "metadata": {},
   "source": [
    "Como podemos observar con el ejemplo anterior, incrementamos la exploración del espacio de soluciones sin un impacto significativo en el uso de memoria."
   ]
  },
  {
   "cell_type": "code",
   "execution_count": 81,
   "id": "6d8776fc",
   "metadata": {},
   "outputs": [],
   "source": [
    "from hill_final_memory_profiler import best_solution"
   ]
  },
  {
   "cell_type": "code",
   "execution_count": 82,
   "id": "03a2c104",
   "metadata": {},
   "outputs": [
    {
     "name": "stdout",
     "output_type": "stream",
     "text": [
      "Filename: /home/ubuntu/practica-2-segunda-parte-jlrzarcor/profiling/hill_final_memory_profiler.py\n",
      "\n",
      "Line #    Mem usage    Increment  Occurences   Line Contents\n",
      "============================================================\n",
      "    95    111.8 MiB    111.8 MiB           1   @profile\n",
      "    96                                         def best_solution(coordinate, initial_point = 0, tolerance = 1e-7, n_restarts = 100):\n",
      "    97                                             \"\"\"\n",
      "    98                                             finds an optimal solution for the TSP problem using hill climbing algorithm\n",
      "    99                                                 input:\n",
      "   100                                                     points[array]: coordinates of the places to be visited \n",
      "   101                                                     initial_point[integer]: number of the place to be visited first\n",
      "   102                                                     tolerance[float]: value that indicates the solution is not improving\n",
      "   103                                                 outputs:\n",
      "   104                                                     bst_distance[float]: distance of the best route \n",
      "   105                                                     best_sol[list]: order the places to be visted in the optimal solution\n",
      "   106                                                     time[float]: time that take the algorithm to obtain the solution    \n",
      "   107                                             \"\"\"\n",
      "   108    111.8 MiB      0.0 MiB           1       start_time = time.time()\n",
      "   109    111.8 MiB      0.0 MiB           1       matrix = distance_matrix(coordinate)\n",
      "   110                                             \n",
      "   111    111.8 MiB      0.0 MiB           1       current_solution = random_solution(matrix, initial_point)\n",
      "   112    111.8 MiB      0.0 MiB           1       current_path = calculate_distance(matrix, current_solution)\n",
      "   113    111.8 MiB      0.0 MiB           1       neighbor = neighbors(matrix,current_solution)[0]\n",
      "   114    111.8 MiB      0.0 MiB           1       best_neighbor, best_neighbor_path = neighbors(matrix, neighbor)\n",
      "   115    111.8 MiB      0.0 MiB           1       global_path = 2 * current_path\n",
      "   116                                             \n",
      "   117    111.8 MiB      0.0 MiB         301       for _ in range(n_restarts):\n",
      "   118    111.8 MiB      0.0 MiB         600           while best_neighbor_path < current_path:\n",
      "   119    111.8 MiB      0.0 MiB        1870               while abs(best_neighbor_path - current_path) > tolerance:\n",
      "   120    111.8 MiB      0.0 MiB        1570                   current_solution = best_neighbor\n",
      "   121    111.8 MiB      0.0 MiB        1570                   current_path = best_neighbor_path\n",
      "   122    111.8 MiB      0.0 MiB        1570                   neighbor = neighbors(matrix, current_solution)[0]\n",
      "   123    111.8 MiB      0.0 MiB        1570                   best_neighbor, best_neighbor_path = neighbors(matrix, neighbor)\n",
      "   124                                                         \n",
      "   125    111.8 MiB      0.0 MiB         300           if current_path < global_path:\n",
      "   126    111.8 MiB      0.0 MiB           8               global_path = current_path\n",
      "   127    111.8 MiB      0.0 MiB           8               global_solution = current_solution\n",
      "   128                                         \n",
      "   129    111.8 MiB      0.0 MiB         300           current_solution = random_solution(matrix, initial_point)\n",
      "   130    111.8 MiB      0.0 MiB         300           current_path = calculate_distance(matrix, current_solution)\n",
      "   131    111.8 MiB      0.0 MiB         300           neighbor = neighbors(matrix,current_solution)[0]\n",
      "   132    111.8 MiB      0.0 MiB         300           best_neighbor, best_neighbor_path = neighbors(matrix, neighbor)\n",
      "   133                                                 \n",
      "   134    111.8 MiB      0.0 MiB           1       return global_path, global_solution, time.time() - start_time\n",
      "\n",
      "\n",
      "\n"
     ]
    },
    {
     "data": {
      "text/plain": [
       "Filename: /home/ubuntu/.local/lib/python3.8/site-packages/memory_profiler.py\n",
       "\n",
       "Line #    Mem usage    Increment  Occurences   Line Contents\n",
       "============================================================\n",
       "  1140    111.8 MiB    111.8 MiB           1               def wrapper(*args, **kwargs):\n",
       "  1141    111.8 MiB      0.0 MiB           1                   prof = get_prof()\n",
       "  1142    111.8 MiB      0.0 MiB           1                   val = prof(func)(*args, **kwargs)\n",
       "  1143    111.8 MiB      0.0 MiB           1                   show_results_bound(prof)\n",
       "  1144    111.8 MiB      0.0 MiB           1                   return val"
      ]
     },
     "metadata": {},
     "output_type": "display_data"
    }
   ],
   "source": [
    "%mprun -f best_solution best_solution(tsp_cities, 0 , 1e-9, 300)"
   ]
  },
  {
   "cell_type": "markdown",
   "id": "967cda98",
   "metadata": {},
   "source": [
    "Observamos que nuestra función requiere un uso de memoria de 11.8 MiB y es corresponde también al incremento en el uso de memoria RAM del sistema."
   ]
  },
  {
   "cell_type": "markdown",
   "id": "d5c64b48",
   "metadata": {},
   "source": [
    "### CONCLUSIONES\n",
    "\n",
    "Como preámbulo, es importante mencionar que durante la última reimplementación de nuestro algoritmo que se realizó para corregir el _Bug_ de inconsistencia, ya que no habíamos notado previamente que nuestro método no estaba arrojando soluciones consistentes (ruta óptima) debido a la naturaleza metaheurística (_randomnized_) del método, pudimos experimentar la importancia del tiempo de ejcución y la necesidad de implementar métodos óptimos que permitan resolver los problemas en un tiempo razonable.\n",
    "\n",
    "Uno de los más aspectos importantes a mencionar del problema _Traveling Salesman Problem_ que buscamos resolver con nuestra implementación con el método de Hill Climbing, es que el espacio de posibles soluciones tiene un crecimiento factorial, esto es, para un conjunto de $n$ ciudades se tiene un total de $n!$ rutas posibles... 10 ciudades se tiene 3'628,800 posibles rutas, 15 ciudades 1.307674368e12 posibles rutas, 20 ciudades 2.43290200817664e18 posibles rutas ... esto hace que no sea factible explorar todo el espacio de soluciones y sea necesario utilizar méotodos que lo hagan de forma aleatoria pero suficientemente amplia, como lo hace Hill Climbing. Invariablemente, conforme crece el número de ciudades, es necesario que de crezca también el espacio a explorar para que se garantice que la mejor ruta es suficientemente cercana al mínimo Global.\n",
    "\n",
    "Por lo anterior, fue necesario realizar nuestro perfilamiento de código restringiendo el problema y la implementación del método a condiciones que nos diera una solución óptima (mejor ruta, más corta) con una exploración suficiente del espacio de soluciones (rutas posibles). Para ello consideramos un subconjunto de 17 ciudades de nuestro data set y se utlizaron 300 puntos _restart_ de la _initial random solution_.\n",
    "\n",
    "Durante el perfilamiento de nuestro método, nos permitió aplicar las funciones que nos ayudaron a conocer la anatomia de nuestro método durante el proceso de ejcución y ser capaces de identificar en qué partes de nuestro código se concentra el tiempo de ejecución y el incremento en el uso de memoria RAM. Por ejemplo, para las condiciones establecidas mencionadas en el párrafo anterior se tien que:\n",
    "\n",
    "   * Nuestro método encuentra la mejor ruta en 2.6 segundos y una desviación estándar de 12.2. Non obstante, al incrementar el número de _restarts_ de 300 a 1000, el incremento en el tiempo casi se triplicó.\n",
    "   * Se tiene 4 procesos que consumen prácticamente todo el tiempo de ejecucion, particularmente    calculate_distance y el method 'copy' of 'list' objects.\n",
    "   * Parece ser que existen llamadas vacías de acuerdo al análisis de _callers_ de pstats. Se buscó encontrar la causa de tal fenómeno sin llegar a una conclusión definitiva.\n",
    "   * Medimos las líneas de código que son ejecutadas un mayor número de veces _hits_, particularmente se observa que es el _while loop_ que determina la mejor ruta del vecindario para una _initial random solution_\n",
    "   * Así mismo, observamos que el uso de memoria RAM fue de 74 MiB contra un estado inicial de 111.8MiB para 300 _restarts_ se modificó a 74.34 MiB, prácticamente el impacto fue nulo\n",
    "   \n",
    "Finalmente, pon lo anterior, particularmente los puntos primero y último, hemos establecido que nuestro principal enfoque será reducir los tiempos de ejecución realizando las reimplementaciones de código que sean necesarios, con lo cual podremos incrementar la exploración del espacio de soluciones lo que nos permitirá obentener una ruta suficientemente cercana a la más corta."
   ]
  }
 ],
 "metadata": {
  "kernelspec": {
   "display_name": "Python 3",
   "language": "python",
   "name": "python3"
  },
  "language_info": {
   "codemirror_mode": {
    "name": "ipython",
    "version": 3
   },
   "file_extension": ".py",
   "mimetype": "text/x-python",
   "name": "python",
   "nbconvert_exporter": "python",
   "pygments_lexer": "ipython3",
   "version": "3.8.5"
  }
 },
 "nbformat": 4,
 "nbformat_minor": 5
}
