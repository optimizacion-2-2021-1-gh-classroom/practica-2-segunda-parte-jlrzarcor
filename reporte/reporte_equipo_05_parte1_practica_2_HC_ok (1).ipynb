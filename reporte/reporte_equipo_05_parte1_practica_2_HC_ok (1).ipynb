{
 "cells": [
  {
   "cell_type": "markdown",
   "metadata": {
    "tags": []
   },
   "source": [
    "### Maestría en Ciencia de Datos, ITAM\n",
    "\n",
    "  **Curso de Optimización 2 2021-1,\"Optimización Avanzada\"**  \n",
    "  **Prof. Erick Palacios Moreno**\n",
    "\n",
    "> * Equipo 5:  \n",
    "MIGUEL LOPEZ  \n",
    "CARLOS LOPEZ  \n",
    "JOSÉ ZARATE\n",
    "\n",
    "**EXPERIMENTACIÓN. Uso de herramientas de kale, kubeflow, minikube para detectar con qué valores no funcionan sus programas.**\n",
    "\n",
    "El paquete que desarrollamos se compone de dos métodos de optimización convexa, uno metaheurístico _Hill Climbing_ y uno por descenso en gradiente _Conjugate Gradient_. En este reporte, presentamos _Hill Climbing_ aplicado para resolver el problema del viajero (TSP) por medio del análisis de la ruta más corta por distancia euclideana. En una segunda etapa se modificará para estimación de distancias de coordenadas terrestres \"_Great Circle Distance_\".\n",
    "\n",
    "____\n",
    "## RESOLVER EL PROBLEMA DE TRAVELING SALESMAN PROBLEM (A.K.A. TSP) PARA DISTINTAS CIUDADES UTILIZANDO EL MÉTODO DE HILL CLIMBING\n",
    "\n",
    " * Distancia Euclideana.\n",
    "\n",
    "> Dataset: [National Traveling Salesman Problems, CANADA](https://www.math.uwaterloo.ca/tsp/world/countries.html)\n",
    "\n",
    "-------\n",
    "\n",
    "### Hill Climbing \n",
    "\n",
    "El algoritmo de hill-climbing realiza seguimiento de un estado actual y en cada iteración se mueve al estado vecino con el valor más alto o menor, según sea el caso, es decir, se dirige en la dirección que proporciona el ascenso o descenso de mayor inclinación. Termina cuando alcanza un máximo o mínimo local. Hill climbing no mira hacia el futuro más allá de los vecinos inmediatos del estado actual. Esto se asemeja a tratar de encontrar la cima del Monte Everest en una espesa niebla mientras sufre de amnesia. Toma en cuenta que una forma de utilizar hill-climbing  consiste en utilizar el negativo de una función de coste heurística como función objetivo; que ascenderá localmente al estado con menor distancia heurística a la meta.\n",
    "\n",
    "Los problemas que tiene Hill Climbing son:\n",
    "\n",
    "MÁXIMA LOCAL: Un máximo local es un pico que es más alto que los estados vecinos pero menor que el máximo global. Cuando este algoritmo alcanzan las proximidades de un máximo local no podrá escapar de este, amenos que estemos tratando con un problema convexo.\n",
    "\n",
    "CORDILLERAS: Las cordilleras son un reto para los algoritmos de hill climbing que optimizan en espacios continuos. Debido a que los algoritmos de hill climbing ajustan solo un elemento en el vector a la vez, a cada paso se va a mover en una dirección alineada con el eje. Si la función objetivo determina una cordillera estrecha que asciende en una dirección no alineada con el eje, entonces el algoritmo de hill climbing solo puede ascender la cordillera en zigzag. Si los lados de la cordillera son muy pronunciados, entonces el algoritmo puede verse forzado a realizar pasos muy pequeños mientras zigzaguea hacia una mejor posición.\n",
    "\n",
    "MESETA: Se encuentra una meseta cuando el espacio de búsqueda es plano o lo suficientemente plano como para que el valor devuelto por la función objetivo sea indistinguible del valor devuelto para las regiones cercanas debido a la precisión utilizada por la máquina para representar la misma.\n",
    "\n",
    "-------\n",
    "**MODIFICACIONES DERIVADAS DE LA ETAPA DE EXPERIMENTACIÓN:**\n",
    "\n",
    "Se desarrollaron diversos experimentos para analizar la eficiencia del algoritmo, la tolerancia y el punto inicial. Observamos que una de las mayores dificultades a resolver era que nuestro algoritmo era ineficiente para un númer mayor a 9 ciudades para cualquier punto inicial y tolerancia asignada (norma-distncia entre dos rutas para elegir la de mayor eficiencia). Se realizó una recodificación del código a partir de consultar otros algoritmos desarrollados por la comunidad (ver README de nuestro repo) bajo los cuales logramos tiempos sumamente eficientes incluso con más de 100 ciudades.\n",
    "\n",
    "En una segunda etapa buscaremos optimizar el código en la siguiente práctica por medio de un análisis de perfilamiento y la consecuente reprogramación; finalmente se implementará el cómputo en paralelo. \n",
    "\n",
    "----"
   ]
  },
  {
   "cell_type": "code",
   "execution_count": 1,
   "metadata": {
    "tags": [
     "imports"
    ]
   },
   "outputs": [],
   "source": [
    "import Opt_HC_CG.hill as opt\n",
    "import pandas as pd\n",
    "import numpy as np"
   ]
  },
  {
   "cell_type": "markdown",
   "metadata": {
    "tags": []
   },
   "source": [
    "**Transformaciones**\n",
    "\n",
    "Durante el proceso de exeperimentación se detectó la ineficiencia del algoritmo y se realizó una reprogramación para lograr tener tiempos aceptables. Se logró reducir de forma considerable, por lo que para mostrar nuestros resultados realizaremos una ejecución para 100 ciudades:"
   ]
  },
  {
   "cell_type": "code",
   "execution_count": 2,
   "metadata": {
    "tags": [
     "block:loaddata"
    ]
   },
   "outputs": [],
   "source": [
    "raw_data = pd.read_csv(\"../datasets/ca4663.tsp\", sep = \" \", names = ['index','x','y'])"
   ]
  },
  {
   "cell_type": "code",
   "execution_count": null,
   "metadata": {
    "tags": [
     "block:cleaner",
     "prev:loaddata"
    ]
   },
   "outputs": [],
   "source": [
    "raw_data1 = raw_data.drop(['index'], axis = 1)\n",
    "raw_data2 = raw_data1.dropna()\n",
    "tsp_cities = raw_data2.iloc[0:50,].to_numpy()"
   ]
  },
  {
   "cell_type": "markdown",
   "metadata": {
    "tags": []
   },
   "source": [
    "Observamos la estructura de los datos:"
   ]
  },
  {
   "cell_type": "code",
   "execution_count": 3,
   "metadata": {
    "tags": [
     "skip"
    ]
   },
   "outputs": [
    {
     "name": "stdout",
     "output_type": "stream",
     "text": [
      "[[41800.     82650.    ]\n",
      " [41966.6667 82533.3333]\n",
      " [41983.3333 82933.3333]\n",
      " [42033.3333 82750.    ]\n",
      " [42033.3333 82916.6667]\n",
      " [42050.     82583.3333]\n",
      " [42100.     82450.    ]\n",
      " [42100.     83100.    ]\n",
      " [42133.3333 82750.    ]\n",
      " [42150.     82966.6667]\n",
      " [42166.6667 82816.6667]\n",
      " [42233.3333 82550.    ]\n",
      " [42250.     81916.6667]\n",
      " [42250.     82433.3333]\n",
      " [42283.3333 83066.6667]\n",
      " [42300.     82716.6667]\n",
      " [42300.     83066.6667]\n",
      " [42316.6667 82850.    ]\n",
      " [42316.6667 82900.    ]\n",
      " [42316.6667 82983.3333]\n",
      " [42316.6667 83000.    ]\n",
      " [42333.3333 82000.    ]\n",
      " [42333.3333 82950.    ]\n",
      " [42333.3333 83033.3333]\n",
      " [42400.     82183.3333]\n",
      " [42433.3333 81883.3333]\n",
      " [42550.     81966.6667]\n",
      " [42566.6667 81683.3333]\n",
      " [42583.3333 82166.6667]\n",
      " [42583.3333 82366.6667]\n",
      " [42600.     81600.    ]\n",
      " [42633.3333 80450.    ]\n",
      " [42650.     80816.6667]\n",
      " [42666.6667 81216.6667]\n",
      " [42700.     81083.3333]\n",
      " [42716.6667 81300.    ]\n",
      " [42716.6667 82483.3333]\n",
      " [42750.     81700.    ]\n",
      " [42783.3333 80200.    ]\n",
      " [42783.3333 80983.3333]\n",
      " [42783.3333 81183.3333]\n",
      " [42800.     80066.6667]\n",
      " [42816.6667 81433.3333]\n",
      " [42816.6667 82466.6667]\n",
      " [42833.3333 80300.    ]\n",
      " [42850.     80500.    ]\n",
      " [42850.     82466.6667]\n",
      " [42866.6667 79566.6667]\n",
      " [42866.6667 80733.3333]\n",
      " [42883.3333 79233.3333]\n",
      " [42883.3333 82150.    ]\n",
      " [42900.     78933.3333]\n",
      " [42900.     79616.6667]\n",
      " [42933.3333 80283.3333]\n",
      " [42950.     80050.    ]\n",
      " [42950.     81616.6667]\n",
      " [42950.     81883.3333]\n",
      " [42950.     82116.6667]\n",
      " [42966.6667 79750.    ]\n",
      " [42966.6667 82400.    ]\n",
      " [42983.3333 79250.    ]\n",
      " [42983.3333 80600.    ]\n",
      " [42983.3333 81250.    ]\n",
      " [43000.     82400.    ]\n",
      " [43033.3333 79283.3333]\n",
      " [43033.3333 80883.3333]\n",
      " [43033.3333 81466.6667]\n",
      " [43066.6667 79950.    ]\n",
      " [43083.3333 79050.    ]\n",
      " [43100.     79050.    ]\n",
      " [43100.     79533.3333]\n",
      " [43100.     80233.3333]\n",
      " [43100.     82000.    ]\n",
      " [43116.6667 79200.    ]\n",
      " [43116.6667 81433.3333]\n",
      " [43133.3333 79100.    ]\n",
      " [43133.3333 80266.6667]\n",
      " [43133.3333 80750.    ]\n",
      " [43150.     79500.    ]\n",
      " [43166.6667 79050.    ]\n",
      " [43166.6667 79233.3333]\n",
      " [43166.6667 79466.6667]\n",
      " [43166.6667 81683.3333]\n",
      " [43166.6667 81850.    ]\n",
      " [43183.3333 81400.    ]\n",
      " [43200.     79266.6667]\n",
      " [43200.     79550.    ]\n",
      " [43200.     80383.3333]\n",
      " [43216.6667 79216.6667]\n",
      " [43216.6667 79750.    ]\n",
      " [43233.3333 80550.    ]\n",
      " [43250.     79066.6667]\n",
      " [43250.     79833.3333]\n",
      " [43250.     81133.3333]\n",
      " [43266.6667 79933.3333]\n",
      " [43283.3333 80450.    ]\n",
      " [43283.3333 81250.    ]\n",
      " [43283.3333 81466.6667]\n",
      " [43300.     81550.    ]\n",
      " [43316.6667 79800.    ]]\n"
     ]
    }
   ],
   "source": [
    "print(tsp_cities)"
   ]
  },
  {
   "cell_type": "markdown",
   "metadata": {
    "tags": []
   },
   "source": [
    "Los nodos anteriores constituyen las 100 primeras ciudades de nuestro dataset, de las cuales nuestro algoritmo determinará la distancia más corta:"
   ]
  },
  {
   "cell_type": "code",
   "execution_count": 4,
   "metadata": {
    "tags": [
     "block:solve",
     "prev:cleaner"
    ]
   },
   "outputs": [],
   "source": [
    "best_distance, best_path, exec_time = opt.best_solution(tsp_cities, 1 , 1e-11)"
   ]
  },
  {
   "cell_type": "markdown",
   "metadata": {
    "tags": []
   },
   "source": [
    "**Resultados:**\n",
    "\n",
    "   * Con base en Hill Climbing, la distancia más corta que ha encontrado el algoritmo es:"
   ]
  },
  {
   "cell_type": "code",
   "execution_count": 5,
   "metadata": {
    "tags": [
     "block:print1",
     "prev:solve"
    ]
   },
   "outputs": [
    {
     "data": {
      "text/plain": [
       "30832.880624375633"
      ]
     },
     "execution_count": 5,
     "metadata": {},
     "output_type": "execute_result"
    }
   ],
   "source": [
    "best_distance"
   ]
  },
  {
   "cell_type": "markdown",
   "metadata": {
    "tags": []
   },
   "source": [
    "   * La ruta óptima esta daterminada por los siguientes nodos-ciudad:"
   ]
  },
  {
   "cell_type": "code",
   "execution_count": 6,
   "metadata": {
    "tags": [
     "block:print2",
     "prev:solve"
    ]
   },
   "outputs": [
    {
     "data": {
      "text/plain": [
       "array([37, 66, 74, 62, 65, 77, 90, 61, 48, 39, 12,  1,  0,  5,  6, 21, 25,\n",
       "       32, 31, 47, 49, 51, 68, 69, 60, 52, 58, 54, 67, 89, 99, 95, 93, 96,\n",
       "       97, 98, 82, 55, 56, 83, 72, 57, 50, 28, 11,  8, 10,  9, 20, 19, 22,\n",
       "       18, 17, 15, 42, 76, 71, 92, 94, 87, 84, 63, 59, 46, 43, 36, 29, 24,\n",
       "       13,  3,  4,  2,  7, 14, 16, 23, 26, 35, 40, 44, 38, 41, 79, 91, 81,\n",
       "       78, 86, 70, 64, 80, 85, 88, 75, 73, 53, 45, 34, 33, 30, 27])"
      ]
     },
     "execution_count": 6,
     "metadata": {},
     "output_type": "execute_result"
    }
   ],
   "source": [
    "np.array(best_path)"
   ]
  },
  {
   "cell_type": "markdown",
   "metadata": {
    "tags": []
   },
   "source": [
    "  * Finalmente, el tiempo de ejecución que le tomó al algoritmo para determinar la ruta más corta en 100 ciudades fue de (segundos):"
   ]
  },
  {
   "cell_type": "code",
   "execution_count": 7,
   "metadata": {
    "tags": [
     "block:print3",
     "prev:solve"
    ]
   },
   "outputs": [
    {
     "name": "stdout",
     "output_type": "stream",
     "text": [
      "64.63763737678528\n"
     ]
    }
   ],
   "source": [
    "print(exec_time)"
   ]
  }
 ],
 "metadata": {
  "kernelspec": {
   "display_name": "Python 3",
   "language": "python",
   "name": "python3"
  },
  "kubeflow_notebook": {
   "autosnapshot": false,
   "docker_image": "lobolc/pkg:0.1",
   "experiment": {
    "id": "new",
    "name": "num-cities-100"
   },
   "experiment_name": "num-cities-100",
   "katib_metadata": {
    "algorithm": {
     "algorithmName": "grid"
    },
    "maxFailedTrialCount": 3,
    "maxTrialCount": 12,
    "objective": {
     "objectiveMetricName": "",
     "type": "minimize"
    },
    "parallelTrialCount": 3,
    "parameters": []
   },
   "katib_run": false,
   "pipeline_description": "Solve TSP by Hill Climbing",
   "pipeline_name": "report-hc-pipeline",
   "snapshot_volumes": false,
   "steps_defaults": [],
   "volume_access_mode": "rwm",
   "volumes": [
    {
     "annotations": [],
     "mount_point": "/shared_volume/",
     "name": "hostpath-pvc",
     "size": 1,
     "size_type": "Gi",
     "snapshot": false,
     "snapshot_name": "",
     "type": "pvc"
    }
   ]
  },
  "language_info": {
   "codemirror_mode": {
    "name": "ipython",
    "version": 3
   },
   "file_extension": ".py",
   "mimetype": "text/x-python",
   "name": "python",
   "nbconvert_exporter": "python",
   "pygments_lexer": "ipython3",
   "version": "3.8.5"
  }
 },
 "nbformat": 4,
 "nbformat_minor": 4
}
